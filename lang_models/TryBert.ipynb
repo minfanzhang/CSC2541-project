{
 "cells": [
  {
   "cell_type": "code",
   "execution_count": 1,
   "metadata": {},
   "outputs": [],
   "source": [
    "import pandas as pd\n",
    "import numpy as np\n",
    "import os\n",
    "import importlib\n",
    "import random\n",
    "import pickle\n",
    "from sklearn.model_selection import train_test_split, GridSearchCV\n",
    "from sklearn.metrics import roc_auc_score, average_precision_score, f1_score, log_loss, average_precision_score\n",
    "\n",
    "\n",
    "import random\n",
    "import pickle\n",
    "from sklearn.model_selection import train_test_split, GridSearchCV\n",
    "from sklearn.metrics import roc_auc_score, average_precision_score, f1_score, log_loss, average_precision_score\n",
    "import torch\n",
    "import torch.nn as nn\n",
    "from transformers import BertTokenizer, BertForMaskedLM, BertConfig, BertModel, InputExample"
   ]
  },
  {
   "cell_type": "markdown",
   "metadata": {},
   "source": [
    "## Initial Attempt to Generate Sentence"
   ]
  },
  {
   "cell_type": "code",
   "execution_count": 2,
   "metadata": {},
   "outputs": [],
   "source": [
    "strong_sp_patterns = ['might be involved', 'might result in', 'might also play', 'hypothesised that',\n",
    "                      'could interact', 'may be speculated', 'might not', 'might become', 'could potentially', \n",
    "                      'may suggest', 'raising the probability that']"
   ]
  },
  {
   "cell_type": "markdown",
   "metadata": {},
   "source": [
    "### Please make sure the project directory contains the data we need! \n",
    "1. `./data/` need to contain the `notes.h5` file from A2. \n",
    "2. `./data/` need to contain clinicalBERT. "
   ]
  },
  {
   "cell_type": "code",
   "execution_count": 3,
   "metadata": {},
   "outputs": [],
   "source": [
    "# data path \n",
    "data_path = './data/'\n",
    "bert_path = './data/clinicalBERT/pretrained_bert_tf/biobert_pretrain_output_all_notes_150000/'"
   ]
  },
  {
   "cell_type": "code",
   "execution_count": 4,
   "metadata": {},
   "outputs": [],
   "source": [
    "device = 'cuda' if torch.cuda.is_available() else 'cpu'"
   ]
  },
  {
   "cell_type": "code",
   "execution_count": 5,
   "metadata": {},
   "outputs": [
    {
     "data": {
      "text/plain": [
       "True"
      ]
     },
     "execution_count": 5,
     "metadata": {},
     "output_type": "execute_result"
    }
   ],
   "source": [
    "torch.cuda.is_available()"
   ]
  },
  {
   "cell_type": "code",
   "execution_count": 6,
   "metadata": {},
   "outputs": [],
   "source": [
    "model = BertForMaskedLM.from_pretrained(bert_path).to(device)\n",
    "tokenizer = BertTokenizer.from_pretrained(bert_path)"
   ]
  },
  {
   "cell_type": "code",
   "execution_count": 7,
   "metadata": {},
   "outputs": [],
   "source": [
    "def fill_blank(text: str, model: BertForMaskedLM, tokenizer: BertTokenizer) -> (str, dict):\n",
    "    '''\n",
    "    Given a sentence with a single blank (denoted by an underscore), queries the BERT model to \n",
    "        fill in the missing token.\n",
    "        \n",
    "    Inputs:\n",
    "        - text: sentence containing a single underscore corresponding to the missing token\n",
    "                ex: \"[CLS] 40 yo asian homeless man with h/o polysubstance abuse and recently released from _  [SEP]\"\n",
    "        - model: pytorch ClinicalBERT model, of type BertForMaskedLM\n",
    "        - tokenizer: BertTokenizer object\n",
    "    \n",
    "    Output:\n",
    "        - tuple consisting of the following:\n",
    "            - string corresponding to the sentence where the underscore is replaced with the most likely token\n",
    "                ex: \"[CLS] 40 yo asian homeless man with h / o polysubstance abuse and recently released from home [SEP]\"\n",
    "            - a dictionary str:float mapping each word in the vocabulary to its normalized probability.\n",
    "                - sum of the values should be equal to 1\n",
    "                - the dictionary should have 28996 elements\n",
    "    '''\n",
    "    random.seed(42)\n",
    "    np.random.seed(42)\n",
    "    torch.manual_seed(42)\n",
    "    \n",
    "    # Replace the blank with '[MASK]' so that the language model can fill it. \n",
    "    text = text.replace('_', '[MASK]')\n",
    "    \n",
    "    \n",
    "    # A lot of the code is modified from the example here\n",
    "    # https://stackoverflow.com/questions/54978443/predicting-missing-words-in-a-sentence-natural-language-processing-model\n",
    "    tokenized_text = tokenizer.tokenize(text)\n",
    "    indexed_tokens = tokenizer.convert_tokens_to_ids(tokenized_text)\n",
    "    masked_index = tokenized_text.index('[MASK]')\n",
    "    \n",
    "    # Create the segment tensors. \n",
    "    segments_ids = [0] * len(tokenized_text)\n",
    "    \n",
    "    # Convert inputs to PyTorch tensors. \n",
    "    tokens_tensor = torch.tensor([indexed_tokens], device=device)\n",
    "    segments_tensors = torch.tensor([segments_ids], device=device)\n",
    "    \n",
    "    # Move the tensors to the GPU\n",
    "    #tokens_tensor = tokens_tensor.to(device)\n",
    "    #segments_tensors = segments_tensors.to(device)\n",
    "    \n",
    "    # Predict all tokens\n",
    "    with torch.no_grad():\n",
    "        predictions = model(tokens_tensor, segments_tensors)  \n",
    "    \n",
    "    predicted_tensor = predictions[0].double()\n",
    "    predicted_index = torch.argmax(predicted_tensor[0, masked_index]).item()\n",
    "    predicted_token = tokenizer.convert_ids_to_tokens([predicted_index])[0]\n",
    "    \n",
    "    vocab_size = tokenizer.vocab_size\n",
    "    all_indicies = predicted_tensor[0, masked_index]\n",
    "    all_tokens = tokenizer.convert_ids_to_tokens(range(vocab_size))\n",
    "    prob = torch.nn.functional.softmax(all_indicies.double(), dim=0).data\n",
    "    vocab_prob = dict(zip(all_tokens, prob.tolist()))\n",
    "    vocab_prob = {k: v for k, v in sorted(vocab_prob.items(), key = lambda item: item[1], reverse=True)}\n",
    "    \n",
    "    return text.replace('[MASK]', predicted_token), vocab_prob"
   ]
  },
  {
   "cell_type": "code",
   "execution_count": 8,
   "metadata": {},
   "outputs": [
    {
     "name": "stdout",
     "output_type": "stream",
     "text": [
      "Test passed!\n"
     ]
    }
   ],
   "source": [
    "def test_fill_blank():\n",
    "    text = '[CLS] 40 yo asian homeless man with h/o polysubstance abuse and recently released from _ [SEP]'\n",
    "    a,b = fill_blank(text, model, tokenizer)\n",
    "    assert(a.split(' ')[-2] == 'home'), 'Most likely word not correct!'\n",
    "    assert(np.isclose(np.sum(list(b.values())), 1.0)), 'Probabilities not normalized!'\n",
    "    assert(np.isclose(b['shelter'], 0.021500807255506516, rtol = 1e-4)), \"Probability not correct!\"\n",
    "    print(\"Test passed!\")\n",
    "    \n",
    "test_fill_blank()"
   ]
  },
  {
   "cell_type": "code",
   "execution_count": 9,
   "metadata": {},
   "outputs": [],
   "source": [
    "gender = ['male', 'female']\n",
    "ages = ages =[str(i) for i in range(25, 90)]\n",
    "ethnicity = ['asian', 'black', 'hispanic', 'white', 'unknown']"
   ]
  },
  {
   "cell_type": "code",
   "execution_count": 10,
   "metadata": {},
   "outputs": [],
   "source": [
    "text = '[CLS] the 35 years old [PROTECTED] patient with history of heart disease [SPECULATE] _ with low '\\\n",
    "       'blood pressure [SEP]'"
   ]
  },
  {
   "cell_type": "code",
   "execution_count": 11,
   "metadata": {},
   "outputs": [],
   "source": [
    "sentence = text.replace('[PROTECTED]', 'hispanic').replace('[SPECULATE]', 'may suggest')"
   ]
  },
  {
   "cell_type": "code",
   "execution_count": 12,
   "metadata": {},
   "outputs": [
    {
     "data": {
      "text/plain": [
       "'[CLS] the 35 years old hispanic patient with history of heart disease may suggest diabetes with low blood pressure [SEP]'"
      ]
     },
     "execution_count": 12,
     "metadata": {},
     "output_type": "execute_result"
    }
   ],
   "source": [
    "a,b = fill_blank(sentence, model, tokenizer)\n",
    "a"
   ]
  },
  {
   "cell_type": "code",
   "execution_count": 13,
   "metadata": {},
   "outputs": [],
   "source": [
    "text = '[CLS] 40 yo asian homeless man with h/o polysubstance abuse and recently released from _ [SEP]'\n",
    "a,b = fill_blank(text, model, tokenizer)"
   ]
  },
  {
   "cell_type": "code",
   "execution_count": 14,
   "metadata": {},
   "outputs": [],
   "source": [
    "all_tokens = tokenizer.convert_ids_to_tokens(range(tokenizer.vocab_size))"
   ]
  },
  {
   "cell_type": "code",
   "execution_count": 15,
   "metadata": {},
   "outputs": [],
   "source": [
    "ages =[str(i) for i in range(45, 101)]"
   ]
  },
  {
   "cell_type": "code",
   "execution_count": 16,
   "metadata": {},
   "outputs": [
    {
     "data": {
      "text/plain": [
       "'55'"
      ]
     },
     "execution_count": 16,
     "metadata": {},
     "output_type": "execute_result"
    }
   ],
   "source": [
    "ages[10]"
   ]
  },
  {
   "cell_type": "code",
   "execution_count": 17,
   "metadata": {},
   "outputs": [],
   "source": [
    "sentence = '[CLS] [KEYWORD] yo black man with h/o polysubstance abuse and recently released from _ [SEP]'\n",
    "a,b = fill_blank(text, model, tokenizer)"
   ]
  },
  {
   "cell_type": "code",
   "execution_count": 18,
   "metadata": {},
   "outputs": [
    {
     "data": {
      "text/plain": [
       "'[CLS] 40 yo asian homeless man with h/o polysubstance abuse and recently released from home [SEP]'"
      ]
     },
     "execution_count": 18,
     "metadata": {},
     "output_type": "execute_result"
    }
   ],
   "source": [
    "a"
   ]
  },
  {
   "cell_type": "code",
   "execution_count": 19,
   "metadata": {},
   "outputs": [],
   "source": [
    "sentence = '[CLS] the [KEYWORD] yo asian pt is probably _ with 10 years of smoking history [SEP]'"
   ]
  },
  {
   "cell_type": "code",
   "execution_count": 20,
   "metadata": {},
   "outputs": [],
   "source": [
    "ethnicity = ['asian', 'black', 'caucasian', 'hispanic']"
   ]
  },
  {
   "cell_type": "code",
   "execution_count": 21,
   "metadata": {},
   "outputs": [],
   "source": [
    "#for i in ages: \n",
    "#    newsen = sentence.replace('[KEYWORD]', i)\n",
    "#    a, b = fill_blank(newsen, model, tokenizer)\n",
    "#    print(a)"
   ]
  },
  {
   "cell_type": "code",
   "execution_count": 22,
   "metadata": {},
   "outputs": [],
   "source": [
    "notes = pd.read_hdf(os.path.join(data_path, 'notes.h5'))"
   ]
  },
  {
   "cell_type": "code",
   "execution_count": 23,
   "metadata": {},
   "outputs": [
    {
     "data": {
      "text/plain": [
       "(425549, 7)"
      ]
     },
     "execution_count": 23,
     "metadata": {},
     "output_type": "execute_result"
    }
   ],
   "source": [
    "#notes.head()\n",
    "notes.shape"
   ]
  },
  {
   "cell_type": "code",
   "execution_count": 24,
   "metadata": {},
   "outputs": [
    {
     "data": {
      "text/plain": [
       "array(['Discharge summary', 'Nursing', 'Nursing/other'], dtype=object)"
      ]
     },
     "execution_count": 24,
     "metadata": {},
     "output_type": "execute_result"
    }
   ],
   "source": [
    "notes['category'].unique()"
   ]
  },
  {
   "cell_type": "markdown",
   "metadata": {},
   "source": [
    "## Look for sentences with speculative words"
   ]
  },
  {
   "cell_type": "code",
   "execution_count": 25,
   "metadata": {},
   "outputs": [],
   "source": [
    "# look for speculative words"
   ]
  },
  {
   "cell_type": "code",
   "execution_count": 26,
   "metadata": {},
   "outputs": [],
   "source": [
    "from __future__ import unicode_literals, print_function\n",
    "from spacy.lang.en import English # updated"
   ]
  },
  {
   "cell_type": "code",
   "execution_count": 27,
   "metadata": {},
   "outputs": [],
   "source": [
    "nlp = English()\n",
    "nlp.add_pipe(nlp.create_pipe('sentencizer')) # updated"
   ]
  },
  {
   "cell_type": "code",
   "execution_count": 28,
   "metadata": {},
   "outputs": [],
   "source": [
    "def extract_key_sentence(text, keyword, nlp):\n",
    "    doc = nlp(text)\n",
    "    return [sent.string.strip() for sent in doc.sents if keyword in sent.string.strip()]"
   ]
  },
  {
   "cell_type": "code",
   "execution_count": 29,
   "metadata": {},
   "outputs": [],
   "source": [
    "def extract_sentence_from_df(df, keyword, nlp): \n",
    "    temp_df = notes[notes['text'].str.contains(keyword)]\n",
    "    extract_func = lambda x : extract_key_sentence(x, keyword, nlp)\n",
    "    clone_df = temp_df.copy()\n",
    "    clone_df['key_sentence'] = temp_df['text'].map(extract_func)\n",
    "    return clone_df"
   ]
  },
  {
   "cell_type": "code",
   "execution_count": 34,
   "metadata": {},
   "outputs": [],
   "source": [
    "def generate_sentene_set(ps, notes_df): \n",
    "    sset = {}\n",
    "    for p in ps: \n",
    "        sset[p] = extract_sentence_from_df(notes_df, p, nlp)\n",
    "    return sset"
   ]
  },
  {
   "cell_type": "code",
   "execution_count": 35,
   "metadata": {},
   "outputs": [],
   "source": [
    "sentence_set = generate_sentene_set(strong_sp_patterns, notes)"
   ]
  },
  {
   "cell_type": "code",
   "execution_count": 54,
   "metadata": {},
   "outputs": [],
   "source": [
    "# this prints the number of notes that contains these speculative patterns in all notes\n",
    "def print_num_relevant_notes(sset): \n",
    "    for key in sset:\n",
    "        if len(sset[key]) > 0:\n",
    "            print('%s: %d'%(key, len(sset[key])))"
   ]
  },
  {
   "cell_type": "code",
   "execution_count": 37,
   "metadata": {},
   "outputs": [
    {
     "data": {
      "text/plain": [
       "['infectious disease:  the patient was seen by the id service who thought that she could potentially have an atypical pneumonia.']"
      ]
     },
     "execution_count": 37,
     "metadata": {},
     "output_type": "execute_result"
    }
   ],
   "source": [
    "sentence_set['could potentially'].key_sentence.iloc[14]"
   ]
  },
  {
   "cell_type": "code",
   "execution_count": 38,
   "metadata": {},
   "outputs": [
    {
     "data": {
      "text/plain": [
       "['she was not using this therapy on a regular basis but it could potentially be useful in the future.']"
      ]
     },
     "execution_count": 38,
     "metadata": {},
     "output_type": "execute_result"
    }
   ],
   "source": [
    "sentence_set['could potentially'].key_sentence.iloc[18]"
   ]
  },
  {
   "cell_type": "code",
   "execution_count": 39,
   "metadata": {},
   "outputs": [
    {
     "data": {
      "text/plain": [
       "['a dermatology consultation was obtained on , and they that this rash was most likely consistent with a drug eruption, with imipenem being the most likely culprit, but that any of his medications could potentially cause this.']"
      ]
     },
     "execution_count": 39,
     "metadata": {},
     "output_type": "execute_result"
    }
   ],
   "source": [
    "sentence_set['could potentially'].key_sentence.iloc[20]"
   ]
  },
  {
   "cell_type": "code",
   "execution_count": 40,
   "metadata": {},
   "outputs": [],
   "source": [
    "def extract_protected_x_speculation_sentences(var, sentence_df):\n",
    "    result = {}\n",
    "    for v in var:\n",
    "        sentence_idx = sentence_df.map(lambda x:[s for s in x if v in s])\n",
    "        vidx = sentence_idx.map(lambda x: len(x) > 0)\n",
    "        result[v] = sentence_idx[vidx]\n",
    "    return result        "
   ]
  },
  {
   "cell_type": "code",
   "execution_count": 41,
   "metadata": {},
   "outputs": [],
   "source": [
    "def total_sentences(sentence_dict): \n",
    "    total = 0\n",
    "    for key in sentence_dict: \n",
    "        sentence_list = sentence_dict[key]\n",
    "        total = total + len(sentence_list)\n",
    "    return total"
   ]
  },
  {
   "cell_type": "code",
   "execution_count": 42,
   "metadata": {},
   "outputs": [],
   "source": [
    "def extract_protected_x_speculation_sentences_from_sentence_set(var, sentence_set):\n",
    "    ''' We assume sentence_set is a dictionary of dfs that contains a column key_sentence '''\n",
    "    result = {}\n",
    "    total = 0\n",
    "    for key in sentence_set:\n",
    "        result[key] = extract_protected_x_speculation_sentences(var, \\\n",
    "                                                                sentence_set[key].key_sentence)\n",
    "        total = total + total_sentences(result[key])\n",
    "    return result, total"
   ]
  },
  {
   "cell_type": "code",
   "execution_count": 43,
   "metadata": {},
   "outputs": [],
   "source": [
    "gender_pronoun_var = [' he ', ' she ', ' him ', ' her ']\n",
    "gender_pronoun_sentences, gen_total\\\n",
    "= extract_protected_x_speculation_sentences_from_sentence_set(gender_pronoun_var, \\\n",
    "                                                              sentence_set)"
   ]
  },
  {
   "cell_type": "code",
   "execution_count": 44,
   "metadata": {},
   "outputs": [],
   "source": [
    "ethnicity_sentences, eth_total = extract_protected_x_speculation_sentences_from_sentence_set(ethnicity, \\\n",
    "                                                                                  sentence_set)"
   ]
  },
  {
   "cell_type": "code",
   "execution_count": 45,
   "metadata": {},
   "outputs": [],
   "source": [
    "def build_sentence_dict_for_patterns(p, var, notes_df): \n",
    "    # Builds a dictionary of dictionaries\n",
    "    # key: \n",
    "    sset = generate_sentene_set(p, notes_df)\n",
    "    print_num_relevant_notes(sset)\n",
    "    result, total = extract_protected_x_speculation_sentences_from_sentence_set(var, sset)\n",
    "    return (result, total) if total > 0 else None        "
   ]
  },
  {
   "cell_type": "code",
   "execution_count": 192,
   "metadata": {},
   "outputs": [],
   "source": [
    "weaker_patterns = [' may be ', ' might ', ' guess ', ' probably ', ' possibly ']"
   ]
  },
  {
   "cell_type": "code",
   "execution_count": 47,
   "metadata": {},
   "outputs": [],
   "source": [
    "ethnicity = ['asian', 'black', 'caucasian', 'hispanic']"
   ]
  },
  {
   "cell_type": "code",
   "execution_count": 52,
   "metadata": {},
   "outputs": [
    {
     "name": "stdout",
     "output_type": "stream",
     "text": [
      "might result in: 1\n",
      "hypothesised that: 1\n",
      "could interact: 4\n",
      "might not: 79\n",
      "might become: 7\n",
      "could potentially: 95\n",
      "may suggest: 80\n"
     ]
    }
   ],
   "source": [
    "ethinicity_strong = build_sentence_dict_for_patterns(strong_sp_patterns, ethnicity, notes)"
   ]
  },
  {
   "cell_type": "code",
   "execution_count": 55,
   "metadata": {},
   "outputs": [
    {
     "name": "stdout",
     "output_type": "stream",
     "text": [
      "may be: 8231\n",
      "might: 2304\n",
      "guess: 108\n",
      "probably: 5026\n",
      "possibly: 7599\n"
     ]
    }
   ],
   "source": [
    "ethnicity_weak = build_sentence_dict_for_patterns(weaker_patterns, ethnicity, notes)"
   ]
  },
  {
   "cell_type": "code",
   "execution_count": 70,
   "metadata": {},
   "outputs": [],
   "source": [
    "def print_all_sentencies(s_dict): \n",
    "    #s_dict is output[0] of build_sentence_dict_for_patterns\n",
    "    for speculate in s_dict:\n",
    "        print(\"===============================\")\n",
    "        print(speculate)\n",
    "        for var in s_dict[speculate]: \n",
    "            series = s_dict[speculate][var]\n",
    "            if len(series) > 0: \n",
    "                for s in series.iteritems():\n",
    "                    print('[%s]: %s'%(var, s[1]))\n",
    "        print(\"===============================\")            "
   ]
  },
  {
   "cell_type": "code",
   "execution_count": 71,
   "metadata": {},
   "outputs": [
    {
     "data": {
      "text/plain": [
       "25"
      ]
     },
     "execution_count": 71,
     "metadata": {},
     "output_type": "execute_result"
    }
   ],
   "source": [
    "ethnicity_weak[1]"
   ]
  },
  {
   "cell_type": "code",
   "execution_count": 72,
   "metadata": {},
   "outputs": [
    {
     "name": "stdout",
     "output_type": "stream",
     "text": [
      "===============================\n",
      "may be\n",
      "[black]: ['past medical history: -extensive etoh abuse, drinks 5 pints vodka per day may be 3 pints since the age of 18, no prior h/o dts or etoh withdrawal, but admits to black outs and tremors.']\n",
      "[black]: ['his review of system only reveals some tarry black stools, which may be related to gastritis.']\n",
      "[black]: [\"npn 7p-7a (see also carevue flownotes for objective data)  72 yo fe w/ gi lymphoma, s/p sm bowel perforation , discharged last tuesday, experienced weakness and worsending doe and black stool x3 days;    received 1 unit prbc's in er eve , 2 units on 4 ; hct in er 24+, hct on  4 post 3 units >30;  gi's goal was for hct to be >30 prior to scoping pt;    pt drank go-lytely  p.m.; ouput cleared;  pt recently put on lovenox () for pe; started on heparin gtt at 12a, d/t peconfirmed w/ md's that they desired for pt to be on hep gtt, re dx gib;  at this time, md's feel pt may be oozing/bleeding from anastomosis of repair of sm bowel perf;  neuro: a/o x3, understands and communicates w/ english language, though primary language /; moves all extremites, perl; able to get to and from commode w/ min assist;  c-v: pt has remained in st 130's for approx 24 hrs; pt usually on diltiazemnot ordered for pt since admission though brought to md's attention; pt receiving lopressor 5 mg iv q 6 hrs instead of po lopressor which pt takes at home;  resp: ra sat 98-100%; lungs clear;  g-i: as above; abd soft, present bowel sounds,;  g-u: voids prn w/ assist to commode;  social: supportive daughter, lives alone  plan: draw a.m. labs at 06:00 ?\"]\n",
      "[black]: ['no evidence of overt bleeding o/n thus far although the pt large l le posterior ecchymotic rash (demarkated c black magic marker) may be mildly increasing in size.']\n",
      "[black]: ['chest incison  blackened and may be slightly open at bottom, r leg incision also necrotic looking.']\n",
      "[black]: ['hct was 7 from 3 earlier in day, previous to that 3, updated micu team, also pt had three black stools after lactulose, solid formed stool, not loose, quiac positive, this may be old blood from gi bleed which she was admitted with, team updated.']\n",
      "===============================\n",
      "===============================\n",
      "might\n",
      "[black]: ['you should return to the emergency department if you resume bleeding again (black tarry stools, or grossly bloody stools), if you feel lightheaded/like you might pass out, if you have chest pain or shortness of breath, or for any other symptoms that concern you.']\n",
      "[black]: ['the gi team felt that given his history of large amounts of bloody and black stool neither of these findings might account for his bleed.']\n",
      "[black]: ['less output from g-tube    action:    off levophed last night at     got 1 unit of platlets  transfused overnight     monitoring is ongoing(team aware that pt is in a/fib and this    might impact  accuracy)    pt was blood cultured last night    remains on meropenum, vanco, cipro and micafungin    treated with fentanyl for pain    response:    svv 18-24, sbp >90, normothermic, warm feet, + pulses, tongue remains    black, plt count up to >80    plan:    cont antibiotics, hemodynamics monitoring,    respiratory failure, acute (not ards/)    assessment:    intubated day  remains on a/c with 10 peep, ls with    rhonchi/diminished    action:    vap care, monitoring abgs, self rotating bed, unable to obtain rsbi due    to peep    response:    no changed in vent settings, abg wnl    plan:    full vent support     problem  alteration skin integrity    assessment:    pt has multiple puncture wounds that leaking as well as many    blisters-some of which have bursted.']\n",
      "[black]: ['sepsis, severe (with organ dysfunction)    assessment:    +blood cultures for yeast    abdomen firm, open, absent bs,  abdominal  drains put out large    amnt secretions,    hypothermic <96, especially when on cvvh    hypotensive    black tongue and cyanotic, toes are warmer and feet with pulp pulse    action:    r. groin intraducer was pulled out and tip was sent for culture    back on levophed last night at 05     monitoring is ongoing(team aware that pt is in a/fib and this    might impact  accuracy)    b. hugger warming ongoing    remains on meropenum, vanco, cipro and micafungin    response:    svv 18-24, sbp up to 90/100s, temps remain low, warm feet, + pulses,    tongue remains black    plan:    cont antibiotics, consider trach,  monitor i/o    respiratory failure, acute (not ards/)    assessment:    intubated day  remains on a/c with 14 peep, ls with    rhonchi/diminished-?']\n",
      "[black]: ['less output from g-tube    action:    off levophed last night at     got 1 unit of platlets  transfused overnight     monitoring is ongoing(team aware that pt is in a/fib and this    might impact  accuracy)    pt was blood cultured last night    remains on meropenum, vanco, cipro and micafungin    treated with fentanyl for pain    response:    svv 18-24, sbp >90, normothermic, warm feet, + pulses, tongue remains    black, plt count up to >80    plan:    cont antibiotics, hemodynamics monitoring,    respiratory failure, acute (not ards/)    assessment:    intubated day  remains on a/c with 10 peep, ls with    rhonchi/diminished    action:    vap care, monitoring abgs, self rotating bed, unable to obtain rsbi due    to peep    response:    no changed in vent settings, abg wnl    plan:    full vent support     problem  alteration skin integrity    assessment:    pt has multiple puncture wounds that leaking as well as many    blisters-some of which have bursted.']\n",
      "[black]: ['cvvh was stopped  due to    persistent hypotension    sepsis, severe (with organ dysfunction)    assessment:    +blood cultures for yeast    abdomen firm, open, absent bs,  abdominal  drains put out large    amnt secretions,    sbp >90    black tongue    large amnt of oozing from every skin breakdown    low platelets    pt withdraws to pain, grimaced to pain/suctioning, does not open eyes,    poor gag/cough,    action:    off levophed last night at     got 1 unit of platlets  transfused overnight     monitoring is ongoing(team aware that pt is in a/fib and this    might impact  accuracy)    pt was blood cultured last night    remains on meropenum, vanco, cipro and micafungin    treated with fentanyl for pain    response:    svv 18-24, sbp >90, normothermic, warm feet, + pulses, tongue remains    black, plt count up to >80    plan:    cont antibiotics, hemodynamics monitoring,    respiratory failure, acute (not ards/)    assessment:    intubated day  remains on a/c with 10 peep, ls with    rhonchi/diminished    action:    vap care, monitoring abgs, self rotating bed, unable to obtain rsbi due    to peep    response:    no changed in vent settings, abg wnl    plan:    full vent support     problem  alteration skin integrity    assessment:    pt has multiple puncture wounds that leaking as well as many    blisters-some of which have bursted.']\n",
      "[black]: ['less output from g-tube    action:    off levophed last night at     got 1 unit of platlets  transfused overnight     monitoring is ongoing(team aware that pt is in a/fib and this    might impact  accuracy)    pt was blood cultured last night    remains on meropenum, vanco, cipro and micafungin    treated with fentanyl for pain    response:    svv 18-24, sbp >90, normothermic, warm feet, + pulses, tongue remains    black, plt count up to >80    plan:    cont antibiotics, hemodynamics monitoring,    respiratory failure, acute (not ards/)    assessment:    intubated day  remains on a/c with 10 peep, ls with    rhonchi/diminished    action:    vap care, monitoring abgs, self rotating bed, unable to obtain rsbi due    to peep    response:    no changed in vent settings, abg wnl    plan:    full vent support     problem  alteration skin integrity    assessment:    pt has multiple puncture wounds that leaking as well as many    blisters-some of which have bursted.']\n",
      "[black]: ['sepsis, severe (with organ dysfunction)    assessment:    +blood cultures for yeast    abdomen firm, open, absent bs,  abdominal  drains put out large    amnt secretions,    hypothermic <96, especially when on cvvh    hypotensive    black tongue and cyanotic, toes are warmer and feet with pulp pulse    action:    r. groin intraducer was pulled out and tip was sent for culture    back on levophed last night at 05     monitoring is ongoing(team aware that pt is in a/fib and this    might impact  accuracy)    b. hugger warming ongoing    remains on meropenum, vanco, cipro and micafungin    response:    svv 18-24, sbp up to 90/100s, temps remain low, warm feet, + pulses,    tongue remains black    plan:    cont antibiotics, consider trach,  monitor i/o    respiratory failure, acute (not ards/)    assessment:    intubated day  remains on a/c with 14 peep, ls with    rhonchi/diminished-?']\n",
      "[black]: ['less output from g-tube    action:    off levophed last night at     got 1 unit of platlets  transfused overnight     monitoring is ongoing(team aware that pt is in a/fib and this    might impact  accuracy)    remains on meropenum, vanco, cipro and micafungin    treated with fentanyl for pain    response:    svv 18-24, sbp >90, normothermic, warm feet, + pulses, tongue remains    black, plt count up to >80    plan:    cont antibiotics, hemodynamics monitoring,    respiratory failure, acute (not ards/)    assessment:    remains orally intubated on vent settings as charted.']\n",
      "[black]: ['less output from g-tube    action:    off levophed last night at     got 1 unit of platlets  transfused overnight     monitoring is ongoing(team aware that pt is in a/fib and this    might impact  accuracy)    remains on meropenum, vanco, cipro and micafungin    treated with fentanyl for pain    maintained meticulous skin care in attempt to keep skin dry    response:    svv 18-24, sbp >90, normo thermic, warm feet, + pulses, tongue remains    black.']\n",
      "[black]: ['sepsis, severe (with organ dysfunction)    assessment:    +blood cultures for yeast    abdomen firm, open, absent bs,  abdominal  drains put out large    amnt secretions,    hypothermic <96, especially when on cvvh    hypotensive    black tongue and cyanotic, toes are warmer and feet with pulp pulse    action:    r. groin intraducer was pulled out and tip was sent for culture    back on levophed last night at 05     monitoring is ongoing(team aware that pt is in a/fib and this    might impact  accuracy)    b. hugger warming ongoing    remains on meropenum, vanco, cipro and micafungin    response:    svv 18-24, sbp up to 90/100s, temps remain low, warm feet, + pulses,    tongue remains black    plan:    cont antibiotics, consider trach,  monitor i/o    respiratory failure, acute (not ards/)    assessment:    intubated day  remains on a/c with 14 peep, ls with    rhonchi/diminished-?due to fluid overload?']\n",
      "===============================\n",
      "===============================\n",
      "guess\n",
      "===============================\n",
      "===============================\n",
      "probably\n",
      "[black]: ['pupils equally reactive    action:           neuro checks q4hrs           reviewed meds to r/o medication for reason of altered mental    status           reviewed abg and possible metabolic reasons for altered    mental status    response:           continues to wax/wane with no improvement noted           famotidine changed to ppi           pco2 60 s but not significantly changed from previous abg    plan:           avoid any sedation    .h/o gastrointestinal bleed, other (gi bleed, gib)    assessment:           continues to pass small amt brbpr (not via ostomy)           colostomy output dark green/black    action:           ostomy rn in to change ostomy appliance    response:           no significant change in amt of blood pr d/w primary team    and probably from anastamosis site during scope    plan:           cont to follow hct    picc line placed at bedside today.']\n",
      "[black]: ['pupils equally reactive    action:           neuro checks q4hrs           reviewed meds to r/o medication for reason of altered mental    status           reviewed abg and possible metabolic reasons for altered    mental status    response:           continues to wax/wane with no improvement noted           famotidine changed to ppi           pco2 60 s but not significantly changed from previous abg    plan:           avoid any sedation    .h/o gastrointestinal bleed, other (gi bleed, gib)    assessment:           continues to pass small amt brbpr (not via ostomy)           colostomy output dark green/black    action:           ostomy rn in to change ostomy appliance    response:           no significant change in amt of blood pr d/w primary team    and probably from anastamosis site during scope    plan:           cont to follow hct    picc line placed at bedside today.']\n",
      "===============================\n",
      "===============================\n",
      "possibly\n",
      "[black]: ['family history: mother died at 60 of pancreatic cancer; father died at 74, unsure of the cause of death possibly black lung as he was a coal miner   physical exam: tc=97 p=80 bp=122/70 rr=16 85-90% on ra .']\n",
      "[black]: [\"substance use/abuse issues;  neuro: appears abit more restful this night, though pt's vs indicative of pt not being oversedated; pt occasionally pulling against soft wrist restraints; remains non-communicative; opens eyes to stiulation;    did move right leg/knee out this a.m.;  c-v: no further ectopy this shift; b/p stable this night w/out ivf boluses or vasopressors;  resp: abg shows hyperventilation despite increase in sedation; pt suctioned approx q 3 hrs for thick whitish return;  g-i: abd remains somewhat distended; rectal incont bag in use, stool black, non-formed;    remains on tf impact w/ fibre; also on fs qid, see flowsheet;  g-u: urine output adequate w/out fluid boluses this night;  skin: coccyx/buttocks somewhat reddened; pt turned side-to-side; barrier cream applied to buttocks area;  social: husband at bedside until approx 22:30; asked questions regarding pt's care, made some small-talk conversation;  plan: reportedly possibly brief wake-up from sedation to assess m.s.;\"]\n",
      "[black]: [\"npn 7p-7a  pt passed >1l melena, became hypotensive, episode of rigors after transfusion, rc'd 2 units of blood; please see careview for objective data  neuro: a&ox3, pt appears very preoccupied and sad with the news of possibly loosing one finger or some of a few pieces of fingers; pt c/o pain  and rc'd 2-4mg of morphine for the pain; pt rc'd 1mg ativan and slept through the night  cv: hr 80-120's, nsr without ectopy, nbp 100-140's/40-80's, hct of 26 received two units of prbc's, 5am hct pending, next due at 9a; pt rc'd 2l ns boluses for sbp's<95; cvp transduced at 4  resp: rr 13-22, sats 95-100%, +non-productive cough, ls clear except faint expiratory wheeze in lul  gi: pt continues npo, +bs/flatus, passed > 1l melena, liquid, within one hour; abd soft/distended, pt reported abd increasingly tender overnight  gu: pt voids in urinal, 350cc q3-4 hr  id: tmax 102 rectally, rigors (as well as tachycardia and hypotension) after blood transfusion completed, blood cx sent and coombs and haptoglobin ordered; no currentl abc treatmetn  integ: index and middle fingers on r hand dusky/ with small black areas, vascular team consulted, covered with nitro-paste and dsd, pt need reminders not to touch other parts of body with paste; both feet with large areas sloughing off, dermatology consulted, will continue to monitor  social: wife in early in evening and will return in am\"]\n",
      "[black]: ['possibly black due to iron supplement?']\n",
      "[black]: ['left toes remain black, necrotic, not new;  plan: 1) if stays off iv gtt dilt, possibly can go out to floor; 2)  supportive cares 3) further plans per a.m. rounds']\n",
      "[black]: ['neuro pt remains agitated at times restless air hungry seems to understand md aware low dose mso4 with good effect please see careview for details and on going and cont   pt mae no limitation turns self   resp remains vent dependent on cmv with peep 18 for po2 of 67 md aware no orders sao2 92 post mso4 sao2 99 scant sputum dim thru out fields poor tol of chest pt with    heart split s2 vvi 100% rate of 60 poor pulses vss no temp pos nvd at 45 distant heart tones   gi pos b/s thru out tol t/f well soft abd stooling black   note family requested no code status granted family meeting with  md   possibly cmo per family wish   plan of care supportive at this time mso4 low doses for comfort and to vent pt    t/p rom']\n",
      "===============================\n"
     ]
    }
   ],
   "source": [
    "print_all_sentencies(ethnicity_weak[0])"
   ]
  },
  {
   "cell_type": "code",
   "execution_count": 78,
   "metadata": {},
   "outputs": [],
   "source": [
    "age_discriptors = [' young ', ' old ']"
   ]
  },
  {
   "cell_type": "code",
   "execution_count": 79,
   "metadata": {},
   "outputs": [
    {
     "name": "stdout",
     "output_type": "stream",
     "text": [
      "might result in: 1\n",
      "hypothesised that: 1\n",
      "could interact: 4\n",
      "might not: 79\n",
      "might become: 7\n",
      "could potentially: 95\n",
      "may suggest: 80\n"
     ]
    }
   ],
   "source": [
    "age_disc_sentences = build_sentence_dict_for_patterns(strong_sp_patterns, age_discriptors, notes)"
   ]
  },
  {
   "cell_type": "code",
   "execution_count": 159,
   "metadata": {},
   "outputs": [
    {
     "name": "stdout",
     "output_type": "stream",
     "text": [
      "might result in: 1\n",
      "hypothesised that: 1\n",
      "could interact: 4\n",
      "might not: 79\n",
      "might become: 7\n",
      "could potentially: 95\n",
      "may suggest: 80\n"
     ]
    }
   ],
   "source": [
    "gender_sentences = build_sentence_dict_for_patterns(strong_sp_patterns, gender_pronoun_var, notes)"
   ]
  },
  {
   "cell_type": "code",
   "execution_count": 161,
   "metadata": {},
   "outputs": [
    {
     "name": "stdout",
     "output_type": "stream",
     "text": [
      "===============================\n",
      "might be involved\n",
      "===============================\n",
      "===============================\n",
      "might result in\n",
      "[ her ]: ['doctor  was concerned that the patient was at increased risk for complications secondary to her pulmonary disease which might result in need for mechanical ventilation with difficulty in weaning.']\n",
      "===============================\n",
      "===============================\n",
      "might also play\n",
      "===============================\n",
      "===============================\n",
      "hypothesised that\n",
      "===============================\n",
      "===============================\n",
      "could interact\n",
      "[ he ]: ['kept pt mostly sedate on 20mcg/kg/min and turned down to 10mcg for rsbi trial and turned off so pt could interact with daughter of which he did.']\n",
      "[ her ]: ['she was instructed not to drink alcohol as this would increase her risk of seizures and could interact with her prescribed on medication.']\n",
      "===============================\n",
      "===============================\n",
      "may be speculated\n",
      "===============================\n",
      "===============================\n",
      "might not\n",
      "[ he ]: ['it was not felt he would benefit from cardioversion because he might not tolerate the tee in his tenuous state and would likely go back into atrial fibrillation.']\n",
      "[ he ]: ['patient was admitted on mirtazapine, although there was concern that he might not have been taking it at home.']\n",
      "[ he ]: ['glaucoma: he was restarted on his glaucoma drops given concern that pt might not die immediately and that he could become blind in the interterm. . #.']\n",
      "[ he ]: ['pt denied any melana or brbpr but also states that he is color blind and might not be able to note such a change in stool color. . (-)']\n",
      "[ he ]: ['apparently historically, he has responded somewhat to oral hypoglycemics in the past suggesting that he might not have typical type 1 picture.']\n",
      "[ he ]: ['does not want us to give up on him but understands that he might not be able to get home like we ahd talked about before 3 weeks ago.']\n",
      "[ he ]: ['npo after mn for ep studies and possible permanent  upset over being told he might not go again thurs, might be a late case.']\n",
      "[ he ]: ['lasix, spironolactone and toprol) and felt that if we d/c him and he were to restart his home regimen-might not tolerate it based on low bp at this point.']\n",
      "[ he ]: [\"gu/gi: pt tol po's well, urine out put 200cc/hr, bs are +, blood sugars were 45 at 2400, pt given 200cc of  juice and this ams sugar is   nph was ^ to 30 ,  plan: pt has one 22g h/l, he has poor veins (multiple attempts by rn to start new one) and a picc might not be possible due to severe pvd and post r saph vein removal for cabg.\"]\n",
      "[ he ]: ['concern expressed by myself and resp therapist that pt might not tolerate extubation because of hyperthermia, nasal flaring,and high p1 pressure on t he dragger when measured.good incicator for tolerance to extubation is for < her  on peep of 5 and  of 5 was  plan is to wean fentanyl  and continue with sedation of ativan and haldol.']\n",
      "[ he ]: ['they are concerned that in the long-run he might not be compliant with recommendation that he no longer drive.']\n",
      "[ she ]: ['after discussing each of these in detail, she elected to proceed with the internal hemipelvisectomy, and she was aware that the functional outcome of this would be poor and that it might not be possible to save her limb depending on the findings at the time of surgery.']\n",
      "[ she ]: ['ip did not believe talc pleurodesis would be successful (and might be detrimental in that she might not survive the procedure).']\n",
      "[ she ]: ['requeting that sedation be turned    down so that pt s ms might not be cloudy and that she might be able to    hear and comprehend what is being said to her    plan:    will continue to offer emotional support and guidance to family.']\n",
      "[ she ]: ['made    aware of possibility that she might not survive this.']\n",
      "[ she ]: ['made    aware of possibility that she might not survive this.']\n",
      "[ she ]: ['made    aware of possibility that she might not survive this.']\n",
      "[ she ]: ['made    aware of possibility that she might not survive this.']\n",
      "[ she ]: ['heme- no signs of active bld, hct 27, plt still low at   n- alert and oriented x3, teary eyed, still not sure about if she wanted to be intubated for a bronch or not as it was explained to her by her oncologist that there is a possibility she might not come off.']\n",
      "[ she ]: ['neuro/social: a&o x 3, seems to be in good spirits, but worried that she might not make her daughters wedding in about a week.']\n",
      "[ she ]: ['she is presently a dnr/dni and she and her daughters were concerned that there were \"extrodinary measures\" being taken that they all might not be aware of ie bld transfusion over noc shift.']\n",
      "[ she ]: ['they are having a very difficult time accepting her diagnosis and the possibility that she might not be able to be extubated, especially her husband.']\n",
      "[ she ]: ['tmax 6 tylenol 650 mg given, blood culture x discussed with patient the possibility she might not have surgery.']\n",
      "[ him ]: ['patient and wife understood that this therapy might not work to improve oxygenation and might, in fact, make him worse.']\n",
      "[ him ]: ['main focus today is on afterload reduction: 25  carvedilol, trend i/o urine output remains low, adequate bp contol/ afterload reduction, free water deficit, hypernatremia, continue po intake, speech and swallow -> passed, carvedilol 25  -> got first dose then went into rapid afib, hydral / isosorbide if bp not controlled with incr carvedilol -> held all day due to afib with rvr and borderline bps, pt consult -> went into rapid afib at 11am with rvr to 180s, hemodynamically stable, received metop 5mg x3 with bp in the 80s and rate still 130- gave dig 25 iv x1 @1130, 25 iv @1330, 25 iv @1530 and 25 iv @1730, @1818 converted back into sinus, renal: signed off, may take few weeks for cr to normalize or might not recover to baseline, let him drink to correct na   dig level on am labs - 2, switch insulin drip to glargine + sliding scale repeat ua/ culture - negative, podiatry: once platelets normal, will do woundvac again, for now duoderm dressing changes, hydralazine not given during day due to lowish bp, 1:30 am c/o nasal congestion, very uncomfortable particularly d/t foley and cannot sleep.']\n",
      "[ him ]: ['we did obtain a cat scan to just make sure that there was not a significant collection of fluid anywhere in the peritoneal cavity that we might not be able to address readily in surgery and then took him to the operating room.']\n",
      "[ him ]: ['does not want us to give up on him but understands that he might not be able to get home like we ahd talked about before 3 weeks ago.']\n",
      "[ him ]: ['lasix, spironolactone and toprol) and felt that if we d/c him and he were to restart his home regimen-might not tolerate it based on low bp at this point.']\n",
      "[ her ]: ['after discussing each of these in detail, she elected to proceed with the internal hemipelvisectomy, and she was aware that the functional outcome of this would be poor and that it might not be possible to save her limb depending on the findings at the time of surgery.']\n",
      "[ her ]: ['it was always somewhat questionable whether or not the underlying comorbidities including the lung disease might not be the cause of a toxic metabolic encephalopathy in this patient, as this was felt to be a likely good explanation for her deficits, despite the lack of a hard findings on diagnostic testing.']\n",
      "[ her ]: ['the neurology service suggested that her symptoms might not resolve for weeks, even after treatment.']\n",
      "[ her ]: ['requeting that sedation be turned    down so that pt s ms might not be cloudy and that she might be able to    hear and comprehend what is being said to her    plan:    will continue to offer emotional support and guidance to family.']\n",
      "[ her ]: ['heme- no signs of active bld, hct 27, plt still low at   n- alert and oriented x3, teary eyed, still not sure about if she wanted to be intubated for a bronch or not as it was explained to her by her oncologist that there is a possibility she might not come off.']\n",
      "[ her ]: ['neuro/social: a&o x 3, seems to be in good spirits, but worried that she might not make her daughters wedding in about a week.']\n",
      "[ her ]: ['she is presently a dnr/dni and she and her daughters were concerned that there were \"extrodinary measures\" being taken that they all might not be aware of ie bld transfusion over noc shift.']\n",
      "[ her ]: ['they are having a very difficult time accepting her diagnosis and the possibility that she might not be able to be extubated, especially her husband.']\n",
      "[ her ]: ['concern expressed by myself and resp therapist that pt might not tolerate extubation because of hyperthermia, nasal flaring,and high p1 pressure on t he dragger when measured.good incicator for tolerance to extubation is for < her  on peep of 5 and  of 5 was  plan is to wean fentanyl  and continue with sedation of ativan and haldol.']\n",
      "===============================\n",
      "===============================\n",
      "might become\n",
      "[ he ]: ['(continued) ot walk, and if he might become vent dependant.']\n",
      "[ she ]: ['the source of the brbpr was not clear, since she sometimes also had maroon stool; the possibility existed that some food dye or medicine could have been responsible for some of the color; however, a colonoscopy and workup for gi bleeding was secondary to trying to see if the patient might become eligible for a liver.']\n",
      "[ she ]: ['it was thought that nutrition might become an issue in the near future for this patient; however, she wished to eat without any supplementation.']\n",
      "[ her ]: ['coronary artery bypass graft (cabg)    assessment:    pt opens eyes, following commands pretty consistently    mae, smiling at times, mouthing words    grimacing at times and periods of anxiousness    af 90s-100s, no vea noted    amio gtt cont @ 1mg    sbp 90s-110s    argatroban cont @ 75mcg           ptt @ 1900 9           no change    received pt intubated on ac           ls clear, dim in bases           suctioned for small amts of tan/blood tinged secretions           o2 sat >97%    feet @ start of shift cool but pale,           l side worse than r           palpable pulses           pt denies pain in feet           + sensation per pt    huo adequate           bun/creat rising still    lfts cont to trend down    daughter called last evening with concerns about her father and his    neurological status    mentioned that father had h/o being manic depressive, however no issues    recently    daughter worried that father might become depressed d/t being intubated    for so long    action:    morphine 1mg sc given for pain management    amio gtt cont @ 1mg per orders    ptt checked q6h           ptt 4 @ 0100           no change per sliding scale    hct 6 with am labs           down from 6           md  notified    placed on cpap 50% 15/8 at start of shift           pt looked more comfortable           o2 sat >96%    reassured daughter that father seemed to be significantly improved    since this past weekend neurologically    daughter told that father is more appropriate, following commands,    smiling at times and mouthing words.']\n",
      "[ her ]: ['coronary artery bypass graft (cabg)    assessment:    pt opens eyes, following commands pretty consistently    mae, smiling at times, mouthing words    grimacing at times and periods of anxiousness    af 90s-100s, no vea noted    amio gtt cont @ 1mg    sbp 90s-110s    argatroban cont @ 75mcg           ptt @ 1900 9           no change    received pt intubated on ac           ls clear, dim in bases           suctioned for small amts of tan/blood tinged secretions           o2 sat >97%    feet @ start of shift cool but pale,           l side worse than r           palpable pulses           pt denies pain in feet           + sensation per pt    huo adequate           bun/creat rising still    lfts cont to trend down    daughter called last evening with concerns about her father and his    neurological status    mentioned that father had h/o being manic depressive, however no issues    recently    daughter worried that father might become depressed d/t being intubated    for so long    action:    morphine 1mg sc given for pain management    amio gtt cont @ 1mg per orders    lopressor 25mg po given & tol    ptt checked q6h           ptt 4 @ 0100           no change per sliding scale    hct 6 with am labs           down from 6           md  notified           1 unit prbcs transfused    placed on cpap 50% 15/8 at start of shift           pt looked more comfortable           o2 sat >96%           abg pnd    feet worsening in color  dusky to mottled this am           pulses more difficult to palpate           dopplerable pulses this am           + capillary refill    reassured daughter that father seemed to be significantly improved    since this past weekend neurologically    daughter told that father is more appropriate, following commands,    smiling at times and mouthing words.']\n",
      "[ her ]: ['coronary artery bypass graft (cabg)    assessment:    pt opens eyes, following commands pretty consistently    mae, smiling at times, mouthing words    grimacing at times and periods of anxiousness    af 90s-100s, no vea noted    amio gtt cont @ 1mg    sbp 90s-110s    argatroban cont @ 75mcg           ptt @ 1900 9           no change    received pt intubated on ac           ls clear, dim in bases           suctioned for small amts of tan/blood tinged secretions           o2 sat >97%    feet @ start of shift cool but pale,           l side worse than r           palpable pulses           pt denies pain in feet           + sensation per pt    huo adequate           bun/creat rising still    lfts cont to trend down    daughter called last evening with concerns about her father and his    neurological status    mentioned that father had h/o being manic depressive, however no issues    recently    daughter worried that father might become depressed d/t being intubated    for so long    action:    morphine 1mg sc given for pain management    amio gtt cont @ 1mg per orders    lopressor 25mg po given & tol    5mg iv lopressor given for hr 120s    ptt checked q6h           ptt 4 @ 0100           no change per sliding scale    hct 6 with am labs           down from 6           md  notified           1 unit prbcs transfused    placed on cpap 50% 15/8 at start of shift           pt looked more comfortable           o2 sat >96%           abg pnd    feet worsening in color  dusky to mottled this am           pulses more difficult to palpate           dopplerable pulses this am           + capillary refill    reassured daughter that father seemed to be significantly improved    since this past weekend neurologically    daughter told that father is more appropriate, following commands,    smiling at times and mouthing words.']\n",
      "===============================\n",
      "===============================\n",
      "could potentially\n",
      "[ he ]: ['it was felt that he could potentially have ards resulting from his septic shock.']\n",
      "[ he ]: ['while he was in acute respiratory distress the patient re-affrimed he was dni, even though he knew that he could potentially die.']\n",
      "[ he ]: ['the fentanyl was at 75mcg/hr but    has since been weaned to 25mcg/hr and the versed was at 5mg/hr and    since has been weaned to 3mg/hr..    action:    intubation so pt could lie flat during the ercp    response:    he has some metabolic and resp acidosis but appears comfortable on vent    plan:    wean pt when necessary, could potentially extubate pt tomorrow.']\n",
      "[ she ]: ['hematology was consulted and felt she could potentially have a partial clotting factor deficiency causing her severe sensitivity to coumadin.']\n",
      "[ she ]: ['the patient demonstrated active suicidal ideation upon extubation continued to express her desire to hurt herself and also wished that the medical team would stop providing care so that she could potentially succeed in this matter.']\n",
      "[ she ]: ['infectious disease:  the patient was seen by the id service who thought that she could potentially have an atypical pneumonia.']\n",
      "[ she ]: ['given that she had completed 36 gy of xrt in the past, she was deemed not a candidate for cyberknife, however she could potentially undergo conventional re-irradiation.']\n",
      "[ she ]: ['she was discharged on 2 l of nasal cannula, and may benefit from outpatient consult for sleep study (patient was noted to need more oxygen at night and reason for intubation was hypercarbia, so she could potentially benefit from cpap, although her oxygen saturations stabalized during her stay). . #)']\n",
      "[ she ]: ['a/p:pt requiring high o2 requirements and could potentially desat when she pulls off ft.']\n",
      "[ she ]: ['she has terminal lung cancer and medical oncologist spoke to her today recommending to her not have any chemo due to there being no benefit to her and it could potentially make what little time she has left very uncomfortable.']\n",
      "[ her ]: ['hematology was consulted and felt she could potentially have a partial clotting factor deficiency causing her severe sensitivity to coumadin.']\n",
      "[ her ]: ['her bp responded to ivf boluses, but it was decided to not try any further medications that could potentially drop her bp.']\n",
      "[ her ]: ['the patient demonstrated active suicidal ideation upon extubation continued to express her desire to hurt herself and also wished that the medical team would stop providing care so that she could potentially succeed in this matter.']\n",
      "[ her ]: ['she is able to sing and so music therapy could potentially be a valuable part of her therapy.']\n",
      "[ her ]: ['she was discharged on 2 l of nasal cannula, and may benefit from outpatient consult for sleep study (patient was noted to need more oxygen at night and reason for intubation was hypercarbia, so she could potentially benefit from cpap, although her oxygen saturations stabalized during her stay). . #)']\n",
      "[ her ]: [\"the cardiology team had nothing more to add, and said that if the patient's pulmonary status would improve then we could potentially consider a catheterization to assess her coronary arteries; however, the patient refused further treatment or further intervention.\"]\n",
      "[ her ]: ['the concern was that patient is preload dependent and overdiuresing her could potentially worsen both left and right heart function.']\n",
      "[ her ]: ['she has terminal lung cancer and medical oncologist spoke to her today recommending to her not have any chemo due to there being no benefit to her and it could potentially make what little time she has left very uncomfortable.']\n",
      "===============================\n",
      "===============================\n",
      "may suggest\n",
      "[ her ]: ['the magnitude of pe and hemodynamic stability may suggest a chronicity of her process.']\n",
      "[ her ]: ['given the documented acute change in her hemodynamics, this may suggest the presence of a stiff ventricle, possibly myocardial stunning from nstemi.']\n",
      "===============================\n",
      "===============================\n",
      "raising the probability that\n",
      "===============================\n"
     ]
    }
   ],
   "source": [
    "print_all_sentencies(gender_sentences[0])"
   ]
  },
  {
   "cell_type": "code",
   "execution_count": 189,
   "metadata": {},
   "outputs": [],
   "source": [
    "descriptions = [' improve ', ' grow ', ' worsen ', ' deteriorate ']"
   ]
  },
  {
   "cell_type": "code",
   "execution_count": 190,
   "metadata": {},
   "outputs": [
    {
     "name": "stdout",
     "output_type": "stream",
     "text": [
      "might result in: 1\n",
      "hypothesised that: 1\n",
      "could interact: 4\n",
      "might not: 79\n",
      "might become: 7\n",
      "could potentially: 95\n",
      "may suggest: 80\n"
     ]
    }
   ],
   "source": [
    "description_sentences = build_sentence_dict_for_patterns(strong_sp_patterns, descriptions, notes)"
   ]
  },
  {
   "cell_type": "code",
   "execution_count": 191,
   "metadata": {},
   "outputs": [
    {
     "name": "stdout",
     "output_type": "stream",
     "text": [
      "===============================\n",
      "might be involved\n",
      "===============================\n",
      "===============================\n",
      "might result in\n",
      "===============================\n",
      "===============================\n",
      "might also play\n",
      "===============================\n",
      "===============================\n",
      "hypothesised that\n",
      "===============================\n",
      "===============================\n",
      "could interact\n",
      "===============================\n",
      "===============================\n",
      "may be speculated\n",
      "===============================\n",
      "===============================\n",
      "might not\n",
      "[ improve ]: ['patient and wife understood that this therapy might not work to improve oxygenation and might, in fact, make him worse.']\n",
      "[ improve ]: ['rn and this sw talked with family about this today to reiterate information previously given to them by md and to urge them to be aware that pt might not improve as they have been hoping.']\n",
      "===============================\n",
      "===============================\n",
      "might become\n",
      "===============================\n",
      "===============================\n",
      "could potentially\n",
      "[ improve ]: [\"the cardiology team had nothing more to add, and said that if the patient's pulmonary status would improve then we could potentially consider a catheterization to assess her coronary arteries; however, the patient refused further treatment or further intervention.\"]\n",
      "[ worsen ]: ['however, given the severity of his pancreatitis, it was felt any interventional procedures in the region of his pancreas could potentially worsen his course.']\n",
      "[ worsen ]: ['per heme/onc, ivig and rhogam could potentially worsen his hemolytic anemia and cause hemolysis.']\n",
      "[ worsen ]: ['because of your prosthetic heart valves, you require ongoing anticoagulation with coumadin, even though this could potentially worsen bleeding in the brain.']\n",
      "[ worsen ]: ['the concern was that patient is preload dependent and overdiuresing her could potentially worsen both left and right heart function.']\n",
      "===============================\n",
      "===============================\n",
      "may suggest\n",
      "===============================\n",
      "===============================\n",
      "raising the probability that\n",
      "===============================\n"
     ]
    }
   ],
   "source": [
    "print_all_sentencies(description_sentences[0])"
   ]
  },
  {
   "cell_type": "code",
   "execution_count": 193,
   "metadata": {},
   "outputs": [
    {
     "name": "stdout",
     "output_type": "stream",
     "text": [
      " may be : 7667\n",
      " might : 2236\n",
      " guess : 84\n",
      " probably : 4757\n",
      " possibly : 7273\n"
     ]
    }
   ],
   "source": [
    "weak_prog_sentences = build_sentence_dict_for_patterns(weaker_patterns, descriptions, notes)"
   ]
  },
  {
   "cell_type": "code",
   "execution_count": 195,
   "metadata": {},
   "outputs": [
    {
     "name": "stdout",
     "output_type": "stream",
     "text": [
      "===============================\n",
      " may be \n",
      "[ improve ]: ['there may be need for this in the future if she does not continue to improve with her oral intake.']\n",
      "[ improve ]: ['this has opened your aortic valve temporarily and we hope that your heart function will improve now so that you may be able to have the valve replacement this summer.']\n",
      "[ improve ]: [\"as the patient's ms continues to improve this may be changed if desired by hcp.\"]\n",
      "[ improve ]: ['as you improve this may be able to be removed in the future.']\n",
      "[ improve ]: ['if bp remains elevated, clonidine patch may be indicated to improve bp control.']\n",
      "[ improve ]: ['patient may be sleepy but arousable in the mornings, but should improve during the day.']\n",
      "[ improve ]: ['-i will continue the trazodone since this is vital for her seizure d/o  numbness- unclear etiology, did improve over hospitalization, nl b12, may be diabetes related although fs wnl in micu, should have continued evaluation and monitor for progression.']\n",
      "[ improve ]: ['his clinical condition has gradually improved with hopes that his clinical condition will continue to improve as the effect of corticosteroids and ivig may be delayed by days to weeks. .']\n",
      "[ improve ]: ['it was felt her anemia may be contributing to her shortness of breath and therefore one unit of blood was given during the admission for a hematocrit of   the transfusion did not appear to improve her shortness of breath.']\n",
      "[ improve ]: ['this may be able to be advanced as he continues to improve and regain strength so he will need repeat assessment at some point.']\n",
      "[ improve ]: ['it is thought that her medications may be changed to remeron if her depression does not improve as an outpatient.']\n",
      "[ improve ]: [\"they may be resumed at rehab if pt's mental status continues to improve and he agrees to take them.\"]\n",
      "[ improve ]: ['the lmca had a 50% distal stenosis extending into the lad and lcx origin, but fractional flow reserve this stenosis was 91 suggesting that the degree of angiographic stenosis may be overestimating the potential to improve coronary flow in this region with pci.']\n",
      "[ improve ]: [\"the coronary care unit team consulted the interventional cardiology service, and the decision was made to pursue revascularization of the left subclavian from which the left internal mammary artery to left anterior descending artery graft was coming off; although, the primary coronary care unit team felt that the benefit of such a procedure may be minimal, they felt that intervention upon the left subclavian may improve the patient's heart function and hemodynamics.\"]\n",
      "[ improve ]: ['this may be pursued if she fails to improve at rehabilitation.']\n",
      "[ improve ]: ['change mode of    ventilation if pt continues to improve    ineffective coping    assessment:    husband has not been in to visit since sunday, has not called today, pt    is now at day 15 of intubation, had indicated prior to intubation    desire to be intubated only 14 days    action:    spoke with social work and at ethics rounds about situation, ethics    recommended that a consult may be appropriate to help husband and team    carry out pts wishes appropriately, suggested to team to contact    husband to review     response:    unknown    plan:    f/u w/ team about phone call with husband, if husband calls refer to    team to schedule family meeting involve social work and ethics in    family meeting if possible    hypotension (not shock)    assessment:    labile blood pressure throughout the shift, see flowsheet for objective    data    action:    continues to be treated with levophed and vasopressin, pt on a very low    dose levophed off at times yet continues to require low doses    response:    pt continues to have low bp with no clear cause    plan:    continue to titrate levophed as tolerated, goal to titrate to off and    maintain map >65    g/u: pt continues on lasix gtt at 4mg with a goal fluid balance of    -1-2l /day, pt with u/o ~200-300/hr throughout the shift, suggested    concentrating fent gtt to reduce intake, following lytes frequently as    pt has required aggressive repletion, on sliding scale potassium,    magnesium and calcium, plan to continue diuresis as pt continues to    tolerate    g/i: pt with no appreciable bm this shift, mushroom cath in place, 3    consecutive c-diff back negative, continuing to treat pt with iv flagyl    until toxin b comes back per id, abd softly distended with hypoactive    bowel sounds, bowel distention decreasing per xray, appears ilius is    resolving']\n",
      "[ improve ]: ['change mode of    ventilation if pt continues to improve    ineffective coping    assessment:    husband has not been in to visit since sunday, has not called today, pt    is now at day 15 of intubation, had indicated prior to intubation    desire to be intubated only 14 days    action:    spoke with social work and at ethics rounds about situation, ethics    recommended that a consult may be appropriate to help husband and team    carry out pts wishes appropriately, suggested to team to contact    husband to review     response:    unknown    plan:    f/u w/ team about phone call with husband, if husband calls refer to    team to schedule family meeting involve social work and ethics in    family meeting if possible    hypotension (not shock)    assessment:    labile blood pressure throughout the shift, see flowsheet for objective    data    action:    continues to be treated with levophed and vasopressin, pt on a very low    dose levophed off at times yet continues to require low doses    response:    pt continues to have low bp with no clear cause    plan:    continue to titrate levophed as tolerated, goal to titrate to off and    maintain map >65    g/u: pt continues on lasix gtt at 4mg with a goal fluid balance of    -1-2l /day, pt with u/o ~200-300/hr throughout the shift, suggested    concentrating fent gtt to reduce intake, following lytes frequently as    pt has required aggressive repletion, on sliding scale potassium,    magnesium and calcium, plan to continue diuresis as pt continues to    tolerate    g/i: pt with no appreciable bm this shift, mushroom cath in place, 3    consecutive c-diff back negative, continuing to treat pt with iv flagyl    until toxin b comes back per id, abd softly distended with hypoactive    bowel sounds, bowel distention decreasing per xray, appears ilius is    resolving']\n",
      "[ improve ]: ['change mode of    ventilation if pt continues to improve    ineffective coping    assessment:    husband has not been in to visit since sunday, has not called today, pt    is now at day 15 of intubation, had indicated prior to intubation    desire to be intubated only 14 days    action:    spoke with social work and at ethics rounds about situation, ethics    recommended that a consult may be appropriate to help husband and team    carry out pts wishes appropriately, suggested to team to contact    husband to review     response:    unknown    plan:    f/u w/ team about phone call with husband, if husband calls refer to    team to schedule family meeting involve social work and ethics in    family meeting if possible    hypotension (not shock)    assessment:    labile blood pressure throughout the shift, see flowsheet for objective    data    action:    continues to be treated with levophed and vasopressin, pt on a very low    dose levophed off at times yet continues to require low doses    response:    pt continues to have low bp with no clear cause    plan:    continue to titrate levophed as tolerated, goal to titrate to off and    maintain map >65    g/u: pt continues on lasix gtt at 4mg with a goal fluid balance of    -1-2l /day, pt with u/o ~200-300/hr throughout the shift, suggested    concentrating fent gtt to reduce intake, following lytes frequently as    pt has required aggressive repletion, on sliding scale potassium,    magnesium and calcium, plan to continue diuresis as pt continues to    tolerate    g/i: pt with no appreciable bm this shift, mushroom cath in place, 3    consecutive c-diff back negative, continuing to treat pt with iv flagyl    until toxin b comes back per id, abd softly distended with hypoactive    bowel sounds, bowel distention decreasing per xray, appears ilius is    resolving']\n",
      "[ improve ]: ['when bp and     improve may be able to add stronger pain regimen.']\n",
      "[ improve ]: ['when bp and     improve may be able to add stronger pain regimen.']\n",
      "[ improve ]: ['when bp and     improve may be able to add stronger pain regimen.']\n",
      "[ improve ]: ['pt medicated with 1mg    klonopin at 16:    response: pt continues to be anxious re: how he is doing needing    frequent reassurance that he is showing signs of improvement and if    continues to improve over the next 24hours may be called out to the    floor.']\n",
      "[ improve ]: ['pt medicated with 1mg    klonopin at 16:    response: pt continues to be anxious re: how he is doing needing    frequent reassurance that he is showing signs of improvement and if    continues to improve over the next 24hours may be called out to the    floor.']\n",
      "[ improve ]: ['pt medicated with 1mg    klonopin at 16:    response: pt continues to be anxious re: how he is doing needing    frequent reassurance that he is showing signs of improvement and if    continues to improve over the next 24hours may be called out to the    floor.']\n",
      "[ improve ]: ['per pt, pt may be able to    improve over weekend and  be able to dc to home w/ services possibly    mon or tues.']\n",
      "[ improve ]: ['per pt, pt may be able to    improve over weekend and  be able to dc to home w/ services possibly    mon or tues.']\n",
      "[ improve ]: ['per pt, pt may be able to    improve over weekend and  be able to dc to home w/ services possibly    mon or tues.']\n",
      "[ improve ]: ['action:    reduced peep overnight may be helping to improve cardiac output with    increased venous return.']\n",
      "[ improve ]: ['they agree to cont approp therapies w/ goal of extubation in light that this may be a realistic goal in the next week considering issues cont to improve a/p resp and renal/fluid status improving.']\n",
      "[ improve ]: ['plan cont  care, keep sedated as lungs improve may be able to wean. ??']\n",
      "[ improve ]: [\"p: if pt doesn't improve he may be swaned.\"]\n",
      "[ improve ]: ['respiratory: placed on mask ventilation for 1hour last night, to improve areas of atelectis, rr ranged 16-24 at times may be shallow respirations, needs alot of encouragement for cough deep breath and incentive spirometer.']\n",
      "[ improve ]: ['if her hemodynamic status continues to improve we may be able to start her on the weaning protocol soon.']\n",
      "[ improve ]: ['reassure dher that legal help may be needed at some point to help facilitate this, but that pt may soon improve in ms enough to sign a check over to her etc.']\n",
      "[ improve ]: ['cont to support resp status, if conts to improve may be transferred to floor/rehab, cont to wean fio2, ?']\n",
      "[ improve ]: ['his cvp was 6 this afternoon, his u/o has been decreasing all day, he is to receive 2 units of prbc and 1 bag of plts, if his u/o and cv do not improve with this than he may be started on ivf.']\n",
      "[ improve ]: ['if her strieght continues to improve she may be ready for sbt soon.']\n",
      "[ improve ]: ['renal team not consulted today; may be consulted tomorrow if renal status does not improve after lasix is stopped.']\n",
      "[ improve ]: ['if conts to improve may be c/o to floor or go to rehab within next few days.']\n",
      "[ improve ]: [\"his b/p started to improve around 3am so the levo was very slowly weaned down to 05mcg/kg/min by 6am and may be d/c'ed soon.\"]\n",
      "[ improve ]: [\"family informed as to status that confusion may or maynot improve and may be due to rx, icu, env't, other.\"]\n",
      "[ improve ]: ['a: continues to improve  p: wean sedation/vent as tolerated; limiting factor to extubation may be secretions.']\n",
      "[ improve ]: ['respiratory care: pt continues to improve her respiratory function and may be changed to a regular air bed to noc.']\n",
      "[ grow ]: ['while the lack of secondary tissue changes to many of these organisms suggests they may be a staining contaminant, the culture prepared from this same brain tissue did grow rare coagulase negative staphylococcus.', 'while the lack of secondary tissue changes to many of these organisms suggested they may be a staining contaminant, the culture prepared from this same brain tissue did grow rare coagulase negative staphylococcus.']\n",
      "[ worsen ]: ['in addition, his maculopapular rash continued to worsen with clindamycin and levaquin and it was suspected that he may be allergic to either clindamycin, levaquin, lipitor or captopril.']\n",
      "===============================\n",
      "===============================\n",
      " might \n",
      "[ improve ]: ['he and his wife were also advised that if the left upper arm weakness did not improve with time and physical therapy they might need an electromyogram to further evaluate the brachioplexus.']\n",
      "[ improve ]: ['he and his wife were also advised that if the left upper arm weakness did not improve with time and physical therapy they might need an electromyogram to further evaluate the brachioplexus.']\n",
      "[ improve ]: ['he and his wife were also advised that if the left upper arm weakness did not improve with time and physical therapy they might need an electromyogram to further evaluate the brachioplexus.']\n",
      "[ improve ]: ['did not improve further raising the question of wash out of the gradient from poor nutrition or whether the patient might have an element of siadh (has interstitial lung disease seen on cxr and previous ct scan).']\n",
      "[ improve ]: ['they also discussed with the patient starting an antidepressant or ritalin which might improve her mood, however, the patient declined.']\n",
      "[ improve ]: ['patient and wife understood that this therapy might not work to improve oxygenation and might, in fact, make him worse.']\n",
      "[ improve ]: ['patient was ultimately started on dialysis in hopes that improvemento her uremia might improve her mental status.']\n",
      "[ improve ]: ['although her po intake continues to be poor, her family believes that her po intake might improve if she had additional physical therapy.']\n",
      "[ improve ]: ['it was felt that it would be unlikely that the patient would be able to leave the hospital without some kind of respiratory support and so it was collectively decided with the family that a temporary tracheostomy might help her improve yet be more comfortable than the breathing tube.']\n",
      "[ improve ]: ['ultimately it was felt presentation might be representative of low grade dic which was slow to improve given poor liver function.']\n",
      "[ improve ]: ['whether he might continue to have improvement as other aspects of his health improve is not clear.']\n",
      "[ improve ]: ['on , given patients worsening ards, and recent extubation it was felt that her lung function might improve if she was started on prone ventilation.']\n",
      "[ improve ]: ['the patient was placed on intravenous ceftazidime and thought that perhaps this represented a pneumonia and that she might improve with antibiotics.']\n",
      "[ improve ]: ['lasix drip was continued with the hope that aggressive diuresis might improve her comfort given the extensive fluid collections noted on imaging.']\n",
      "[ improve ]: ['at the moment she appears well nourished, but if her diet and appetite do not improve with treatment of her depression then nutrition felt she might require tube feeds and evaluation for peg tube.']\n",
      "[ improve ]: ['while more alert might    improve swallow status    action:    requested re-peat swallow study    response:    plan:    transfer to floor-hopefully earlier in day so pt can be familiar with    new setting before night fall.']\n",
      "[ improve ]: ['while more alert might    improve swallow status    action:    requested re-peat swallow study    response:    plan:    transfer to floor-hopefully earlier in day so pt can be familiar with    new setting before night fall.']\n",
      "[ improve ]: ['both his sister and his nephew felt    that over all he would definitely not want any prolonged intubation,    but that given that he might reasonably improve his secretions in the    next few days, they thought he would ultimately want to continue    aggressive care with a goal of extubation in the next several days if    the secretions do improve.']\n",
      "[ improve ]: ['both his sister and his nephew felt    that over all he would definitely not want any prolonged intubation,    but that given that he might reasonably improve his secretions in the    next few days, they thought he would ultimately want to continue    aggressive care with a goal of extubation in the next several days if    the secretions do improve.']\n",
      "[ improve ]: ['both his sister and his nephew felt that over    all he would definitely not want any prolonged intubation, but that    given that he might reasonably improve his secretions in the next few    days, they thought he would ultimately want to continue aggressive care    with a goal of extubation in the next several days if the secretions do    improve.']\n",
      "[ improve ]: ['both his sister and his nephew felt    that over all he would definitely not want any prolonged intubation,    but that given that he might reasonably improve his secretions in the    next few days, they thought he would ultimately want to continue    aggressive care with a goal of extubation in the next several days if    the secretions do improve.']\n",
      "[ improve ]: ['both his sister and his nephew felt    that over all he would definitely not want any prolonged intubation,    but that given that he might reasonably improve his secretions in the    next few days, they thought he would ultimately want to continue    aggressive care with a goal of extubation in the next several days if    the secretions do improve.']\n",
      "[ improve ]: ['arousal, attention, and cognition, impaired    assessment:           alert/arouses to voice           tracking around room           no noted purposeful movements           remains tremulous when touched           did at times appear like he might be attempting to mouth    words           pt did squeeze rn s hand to command x1    action:           cont neuro assessments           cont to stimulate and encourage interaction           turned and repositioned           passive rom    response:           unchanged    plan:           cont with pt/ot           oob to chair in am           cont to stimulate and encourage social interaction           supportive care to pt and family    renal failure, acute (acute renal failure, arf)    assessment:           creatinine this am 6           cont to have adequate u/o           wt this am 9 down for 105 on            abg resp alkolosis with be -2           + only 85cc at mn    action:           no hd at this time    response:           renal status slowly improving    plan:           cont to asses renal status closely           monitor electrolytes closely           monitor u/o           plan on removing hd catheter on friday if renal status cont    to improve and hd not required    impaired skin integrity (tracheostomy site)    assessment:           sutures removed from trach site by micu team           once sutures removed able to closely asses site           skin under trach flaps excoriated with multiple open red    areas    action:           skin under trach flaps cleaned with ns and allevyn trach    applied           during cleaning of pt s trach pt + grimacing and hr/bp    increased pt visible in pain fent iv given    response:           site cleaned and cont to be monitored           + effect from fent pt may need to be pre-medicated for trach    care    plan:           cont to diligent monitoring of site           monitor open areas for s/s of infection']\n",
      "[ improve ]: ['concern was that the pleural    effusion seen on ct back on might have gotten larger and  that if a    thoracentesis  was done then pt his oxygenation might improve and he    would tolerate extubation.']\n",
      "[ improve ]: ['concern was that the pleural    effusion seen on ct back on might have gotten larger and  that if a    thoracentesis  was done then pt his oxygenation might improve and he    would tolerate extubation.']\n",
      "[ improve ]: ['moving toes on right, held up 2 fingers on right hand, nodded head \"no\" to pain x 1) tracking with eyes, purposeful spontaneous movement in right hand, discussion with family and icu team to plan extubation on  with thought that rsbi might improve over next 24 hours, family made decision to extubate , then following family meeting asked nursing to have further discussion with all teams involved as to possible extubation today as originally planned on  and cmo status for pt, social work was called to speak with family, icu team and neurosurg team was contact and icu team met with family again.']\n",
      "[ improve ]: ['if po hydralazine might improve bp    ?']\n",
      "[ improve ]: ['needs to turn cough and deep breath, inc  might improve status.']\n",
      "[ improve ]: ['the pt might benefit from diuretics to improve resp fxn secondary developing chf(?).']\n",
      "[ improve ]: ['other meds that might improve pain management']\n",
      "[ improve ]: ['pt lethargic but aorusable and his ms might improve when dialysis is restarted.']\n",
      "[ improve ]: ['rn and this sw talked with family about this today to reiterate information previously given to them by md and to urge them to be aware that pt might not improve as they have been hoping.']\n",
      "[ improve ]: [\"consider repeat swallow study as eating might improve pt's mood and participation in her care.\"]\n",
      "[ improve ]: ['had wanted to put her father on  care but was told he might improve with medications at the  and so agreed to transfer pt.']\n",
      "[ worsen ]: ['patient currently remains a full code and is aware that if status continues to worsen that intubation might be required.']\n",
      "[ deteriorate ]: ['in addition, due to initial concern that he might deteriorate and require cardiac transplantation, he was tested for hep a,b,c and cmv abs which were all negative.']\n",
      "===============================\n",
      "===============================\n",
      " guess \n",
      "===============================\n",
      "===============================\n",
      " probably \n",
      "[ improve ]: ['the degree of left basal opacity has probably continued to improve slightly from prior day.']\n",
      "[ improve ]: ['has been followed by cardiology (re: ), pci probably unlikely to improve cardiac function.']\n",
      "[ improve ]: ['repeatedly, it was discussed with the patient that weight loss as well as decreased alcohol use would improve his quality of life and probably require him to use less bipap and possibly home o doctor   will provide follow-up of his osa in sleep unit at .']\n",
      "[ improve ]: ['repeatedly, it was discussed with the patient that weight loss as well as decreased alcohol use would improve his quality of life and probably require him to use less bipap and possibly home o    lung nodule:  the patient was found to have an incidental small 4 cm lung nodule and was to follow-up with doctor   as an outpatient for further ct to evaluate whether this was a growing lung nodule.']\n",
      "[ improve ]: ['as an outpatient, she should continue the -level positive airway pressure regimen to help improve her hypercarbia at baseline with pco2 noted probably in the 60s to 70s.']\n",
      "[ improve ]: [\"it was determined at this time that the patient probably would not improve on the ventilator and the patient's daughter agreed to extubation and comfort measures only for the patient.\"]\n",
      "[ improve ]: ['it was felt that she was probably experiencing an acute reaction to stress which should improve with time.']\n",
      "[ improve ]: ['this is probably an effect of bacteria in your blood that should improve over time but you will need a followup visit with a heart specialist and additional tests.']\n",
      "[ improve ]: ['-          acute desaturation episode with hypotension at 1200    action:    -          turn and reposition patient, especially l lung up to improve    aeration    -          bronch performed    -          vanc/zosyn administered for sputum gram stain with gram +    cocci    response:    -          pt tol bronch    -          slightly improved breath sounds post bronch    plan:    -          continue antibiotics/follow up cultures for probably    community-acquired pneumonia    -          continue to monitor    hyperkalemia (high potassium, hyperpotassemia)    assessment:    - k+ of 7 with slightly peaked t-waves noted    action:    - 25g of d50/10 iv regular insulin; 2 grams of cal gluc; 2 bottles    kaexylate    response:    -repeat k 1, later repeat 7 another k+ currently pending    plan:    - continue to monitor/treat prn    fever, unknown origin (fuo, hyperthermia, pyrexia)    assessment:    - pt spiked to 3 this morning    action:    - placed cooling blanket beneath patient.']\n",
      "[ improve ]: ['rash continues to improve but pt noting pain returning to feet and felt that she would probably need oxycontin by the afternoon.']\n",
      "[ improve ]: ['nursing note 0700hrs - 1700hrs   neuro - neurologically , continues very little response to painful stimuli - is withdrawing legs to painful stimuli but no upper limb movement - occassioanlly spontaneously opening eyes but not following or focusing - not follwing commands - refer to icu flow for further objective  data reviewed by neuro team this am - who confirm that with the result of the mri the prognosis is poor  cvs - tollerated dialysis well - b/p remained stable and the  aim is <150systolic - metoprolol held in view of b/p during dialysis - h/r stable 80-90bpm afebrile - for re-check coags and hct this pm  g/i - abdomenen firm/distended reviwed apparently improved - hypoactive bowel sounds present - no bowel movement - no n/g feed to commence at present  g/u - dialysed well this am - 2l removed as planned - has contined to pass some urine  skin - left arm warm radial pulse evident apparently previously cyanosed - rt arm - dressing removed suture line where fistula inserted dry and intact no bruit evident - team are aware - arm continues red/warm elevated and swelling reduced - sutures further down arm reviwed and surgery to remove at some point sacrum intact lower extremeties dusky due to pvd - doppler flow pulses  social - meeting took place at 1600 between son {health care proxy} and daughter  with pulmonolgy fellow /medical team renal transplant and myself  - the fellow explained to the family the result of the mri scan and how over the past 3 days since  admission to icu he had made very little progress neurogically and was making no spontaneous respiratory effort - the prognosis was very poor - however the team did go on to explain that a trach could well be placed and feeding commenced if the family wished but the team felt that he probably would make little or no effort to nuerologically improve despite this action - the family appeared very realistic about the present circumstances and probable prognosis - they felt that there father was comfortable/painfree but expressed that there fathers wishes were not for trach/feed  - the son and daughter are to speak with the extended family, some which live out of town, to establish there wishes and there need to visit prior to any further action taking place']\n",
      "[ improve ]: ['plan: cont to monitor pt b/p, probably will improve after prbc given.']\n",
      "[ worsen ]: ['cxr:  moderately severe pulmonary edema continues to worsen since  accompanied by moderate left and small right pleural effusion, also increasing, and obscuring cardiac silhouette, probably moderately enlarged and unchanged.']\n",
      "[ worsen ]: ['pt was electively intubated today prior to poc placement w/the understanding his resp status would probably worsen d/t tumor lysis before improvement.']\n",
      "===============================\n",
      "===============================\n",
      " possibly \n",
      "[ improve ]: [\"-ce trending down -considered starting lactulose to possibly improve ms   to liver and liver damage seen in coagulopathy but d/c'd as pt already having considerable diarrhea- c diff pending -per renal, if family still wishes, will do hd in am -got just 1l ivf bolus during evening.\"]\n",
      "[ improve ]: ['he was started on nystatin powder and when it was noticed that this seemed to not be improving and possibly slightly worsening, given his immunocompromised state and massive edema, fluconazole po 100 mg was started for a 7 day course and infection was noted to start to improve on .']\n",
      "[ improve ]: ['she will be discharged on lasix 30 mg po qd, with aldactone to possibly be added as outpatient if renal failure continues to improve or stabilizes.']\n",
      "[ improve ]: ['he was started on clindamycin and ceftazidine but did not improve despite the antibiotic treatment for presumed aspiration pneumonia on x-ray possibly secondary to aspiration pneumonitis since it did not improve or not covering a bug because two days earlier, on , his blood cultures grew out two out of four bottles of gram positive cocci in pairs and clusters at which point he was started on vancomycin.']\n",
      "[ improve ]: ['he was started on a nitroglycerin drip to decrease the load and to possibly improve cardiac output.']\n",
      "[ improve ]: ['repeatedly, it was discussed with the patient that weight loss as well as decreased alcohol use would improve his quality of life and probably require him to use less bipap and possibly home o doctor   will provide follow-up of his osa in sleep unit at .']\n",
      "[ improve ]: ['repeatedly, it was discussed with the patient that weight loss as well as decreased alcohol use would improve his quality of life and probably require him to use less bipap and possibly home o    lung nodule:  the patient was found to have an incidental small 4 cm lung nodule and was to follow-up with doctor   as an outpatient for further ct to evaluate whether this was a growing lung nodule.']\n",
      "[ improve ]: ['gerontology consult called and recommended 15 mg remeron qhs to treat depression, help her sleep and possibly improve her appetite.']\n",
      "[ improve ]: [\"there were thoughts of giving the patient single donor platelets to improve the patient's response but the studies revealed that the patient did not have any antibodies to platelets and that multiple donor platelets would, in fact, the choice that should be preferred since the patient would possibly respond to one line.\"]\n",
      "[ improve ]: [\"this was considered to be possibly readdressed if the patient began to improve from a neurological perspective (see next addendum for patient's progress after ).\"]\n",
      "[ improve ]: ['per pt, pt may be able to    improve over weekend and  be able to dc to home w/ services possibly    mon or tues.']\n",
      "[ improve ]: ['per pt, pt may be able to    improve over weekend and  be able to dc to home w/ services possibly    mon or tues.']\n",
      "[ improve ]: ['per pt, pt may be able to    improve over weekend and  be able to dc to home w/ services possibly    mon or tues.']\n",
      "[ improve ]: ['febrile to 8    abdomen remains firm with high output drainage    action:    fentanyl decreased to 100mg propofol to 20mcg  since scheduled ativan    dose started;    response:    better hemodynamics with ativan just not lasting full 8hrs    plan:    discuss increase ativan to q6hr and possibly wean off  fentanyl    first(to improve gastric motility) followed by propofol    wait on cultures']\n",
      "[ improve ]: ['plan:    f/u w/team re: reevaluation by speech & swallow, cont to monitor resp    status, may have thoracentesis to possibly improve resp status.']\n",
      "[ improve ]: ['plan:    f/u w/team re: reevaluation by speech & swallow, cont to monitor resp    status, may have thoracentesis to possibly improve resp status.']\n",
      "[ improve ]: ['plan:    f/u w/team re: reevaluation by speech & swallow, cont to monitor resp    status, may have thoracentesis to possibly improve resp status.']\n",
      "[ improve ]: ['plan:    f/u w/team re: reevaluation by speech & swallow, cont to monitor resp    status, may have thoracentesis to possibly improve resp status.']\n",
      "[ improve ]: ['nafacillin- mssa infection    events .completed course of gentamycin                      doploff placed  titrating up feed to goal of 60                      failed swallow eval  [ possibly related to    swelling post op, expected to improve subside next few days], swallow    team to follow, strictly npo at this time                      oob to chair this am,  pt following    impaired skin integrity    assessment:    generalized edema 4+ much improved to lue; ble s remain quite edematous    of 4+ ; rue improving ;  .']\n",
      "[ improve ]: ['nafacillin- mssa infection    events .completed course of gentamycin, patient consented to hiv screen                          doploff placed  titrating up feed to goal of 60                      failed swallow eval  [ possibly related to    swelling post op, expected to improve subside next few days], swallow    team to follow, strictly npo at this time                      oob to chair this am,  pt following    impaired skin integrity    assessment:    generalized edema 4+ improving; ble s remain quite edematous of 4+ ;    bilateral heels with deep tissue injury to rt ankle ; multiple incision    to vertebrae and ant neck, right hip, dressings intact, x1 jp drain    insitu, collar to remain in place     action:    waffle boots maintained with compression sleeves; frequent monitoring    and positioned changes; barrier cream applied to perineum/rectal/heals    area dressings on  changed last pm by ortho team t, jp drain minimal    output ?']\n",
      "[ improve ]: ['nafacillin- mssa infection    events .completed course of gentamycin, patient consented to hiv screen                          doploff placed  titrating up feed to goal of 60                      failed swallow eval  [ possibly related to    swelling post op, expected to improve subside next few days], swallow    team to follow, strictly npo at this time                      oob to chair this am,  pt following    impaired skin integrity    assessment:    generalized edema 4+ improving; ble s remain quite edematous of 4+ ;    bilateral heels with deep tissue injury to rt ankle ; multiple incision    to vertebrae and ant neck, right hip, dressings intact, x1 jp drain    insitu, collar to remain in place     action:    waffle boots maintained with compression sleeves; frequent monitoring    and positioned changes; barrier cream applied to perineum/rectal/heals    area dressings on  changed last pm by ortho team t, jp drain minimal    output ?']\n",
      "[ improve ]: ['nafacillin- mssa infection    events .completed course of gentamycin, patient consented to hiv screen                          doploff placed  titrating up feed to goal of 60                      failed swallow eval  [ possibly related to    swelling post op, expected to improve subside next few days], swallow    team to follow, strictly npo at this time                      oob to chair this am,  pt following                      lasix 20mgs for neg balance                      hct stable at 26, now on protonix     impaired skin integrity    assessment:    generalized edema 4+ improving; ble s remain quite edematous of 4+ ;    bilateral heels with deep tissue injury to rt ankle ; multiple incision    to vertebrae and ant neck, right hip, dressings intact, x1 jp drain    insitu, collar to remain in place     action:    waffle boots maintained with compression sleeves; frequent monitoring    and positioned changes; barrier cream applied to perineum/rectal/heals    area dressings on  changed last pm by ortho team t, jp drain minimal    output ?']\n",
      "[ improve ]: ['nafacillin- mssa infection    events .completed course of gentamycin, patient consented to hiv screen                          doploff placed  titrating up feed to goal of 60                      failed swallow eval  [ possibly related to    swelling post op, expected to improve subside next few days], swallow    team to follow, strictly npo at this time                      oob to chair this am,  pt following                      lasix 20mgs for neg balance                      hct stable at 26, now on protonix     impaired skin integrity    assessment:    generalized edema 4+ improving; ble s remain quite edematous of 4+ ;    bilateral heels with deep tissue injury to rt ankle ; multiple incision    to vertebrae and ant neck, right hip, dressings intact, x1 jp drain    insitu, collar to remain in place     action:    waffle boots maintained with compression sleeves; frequent monitoring    and positioned changes; barrier cream applied to perineum/rectal/heals    area dressings on  changed last pm by ortho team t, jp drain minimal    output ?']\n",
      "[ improve ]: ['nafacillin- mssa infection    events .completed course of gentamycin, patient consented to hiv screen                          doploff placed  titrating up feed to goal of 60                      failed swallow eval  [ possibly related to    swelling post op, expected to improve subside next few days], swallow    team to follow, strictly npo at this time                      oob to chair this am,  pt following                      lasix 20mgs for neg balance                      hct stable at 26, now on protonix     impaired skin integrity    assessment:    generalized edema 4+ improving; ble s remain quite edematous of 4+ ;    bilateral heels with deep tissue injury to rt ankle ; multiple incision    to vertebrae and ant neck, right hip, dressings intact, x1 jp drain    insitu, collar to remain in place     action:    waffle boots maintained with compression sleeves; frequent monitoring    and positioned changes; barrier cream applied to perineum/rectal/heals    area dressings on  changed last pm by ortho team t, jp drain minimal    output ?']\n",
      "[ improve ]: ['nafacillin- mssa infection    events .completed course of gentamycin, patient consented to hiv screen                          doploff placed  titrating up feed to goal of 60                      failed swallow eval  [ possibly related to    swelling post op, expected to improve subside next few days], swallow    team to follow, strictly npo at this time                      oob to chair this am,  pt following                      lasix 20mgs for neg balance                      hct stable at 26, now on protonix     impaired skin integrity    assessment:    generalized edema 4+ improving; ble s remain quite edematous of 4+ ;    bilateral heels with deep tissue injury to rt ankle ; multiple incision    to vertebrae and ant neck, right hip, dressings intact, x1 jp drain    insitu, collar to remain in place     action:    waffle boots maintained with compression sleeves; frequent monitoring    and positioned changes; barrier cream applied to perineum/rectal/heals    area dressings on  changed last pm by ortho team t, jp drain minimal    output ?']\n",
      "[ improve ]: ['nafacillin- mssa infection    events .completed course of gentamycin, patient consented to hiv screen                          doploff placed  titrating up feed to goal of 60                      failed swallow eval  [ possibly related to    swelling post op, expected to improve subside next few days], swallow    team to follow, strictly npo at this time                      oob to chair this am,  pt following                      lasix 20mgs for neg balance                      hct stable at 26, now on protonix     impaired skin integrity    assessment:    generalized edema 4+ improving; ble s remain quite edematous of 4+ ;    bilateral heels with deep tissue injury to rt ankle ; multiple incision    to vertebrae and ant neck, right hip, dressings intact, x1 jp drain    insitu, collar to remain in place     action:    waffle boots maintained with compression sleeves; frequent monitoring    and positioned changes; barrier cream applied to perineum/rectal/heals    area dressings on  changed last pm by ortho team t, jp drain minimal    output ?']\n",
      "[ improve ]: ['would like to see if pt will improve enough with addition of new abx and to possibly get extubated.']\n",
      "[ improve ]: ['acid base within limits but pao2/fio2 is less than   pt is activily exhaling and increase in sedation could possibly improve pao']\n",
      "[ improve ]: [\"if pt possibly becoming tolerant to propofol, or if pt was uncomfortable in some way; t taken, pt afebrile; pt's sbp finally down to 150's approx 60 minutes after lopressor;   remains on ativan iv q4 hr for coverage re hx etoh use;  resp: resolving pna; on pipercillin iv q 8 hrs;     remains on ps 16/peep 10; suctioned approx q 3 hrs for small to mod amt thick return; lung sounds clear upper, decreased bases;  g-i/f-e: remains on impact w/ fibre for tube feeds via ngt;    abd appears generally distended, though not firm; hypoactive bowel sounds; did have mod amt soft formed and liquid stool at approx 22:00;    remains on q 6 hr fs; receiving small doses riss coverage; also continues to receive na tablets, crushed and dissolved, through ngt, for recent low na; a.m. na  135; will follow to prevent hypernatremia;  g-u: adequate urine output via patent foley;  skin: turned q 3-4 hrs; received hypgiene care to skin; multipodus boots in use;  access: cvl and a-l patent;  plan: 1) pt s/p ivig; if pt dosn't improve (in next few days), pt may need plasmaphoresis; 2) possible peg and trach needed for continued care until n-m status improves/returns; 3) check results a.m. labs\"]\n",
      "[ improve ]: ['suctioning thick yellow sputum.increased sedation to decrease spontaneous breathing and possibly improve ventilation.']\n",
      "[ improve ]: ['attempted to wean down and was down to 7 mcg/kg/min x 1 1/2 hr but map dropped to 68 and sys in 70 so went up at  goal is if can wean off pressor pt will possibly benefit  beta blocker for rate control to improve c/o.']\n",
      "[ improve ]: ['gu:- 3-way foley catheter insitu, urine output tailed off at begining of night, given fluid bolus to improve urine output, possibly for lasix later this morning.']\n",
      "[ grow ]: ['she can continue on furosemide as needed while on the omed service (and possibly on discharge) if short of breath or if effusions grow in size.']\n",
      "[ worsen ]: ['given the fistula, it was thought that radiation and chemotherapy, while possibly able to provide some local control of tumor extension, would only worsen the fistula and cause neutropenia increasing infection risk.']\n",
      "===============================\n"
     ]
    }
   ],
   "source": [
    "print_all_sentencies(weak_prog_sentences[0])"
   ]
  },
  {
   "cell_type": "markdown",
   "metadata": {},
   "source": [
    "## Experiment with different sentence templates"
   ]
  },
  {
   "cell_type": "code",
   "execution_count": 112,
   "metadata": {},
   "outputs": [],
   "source": [
    "from itertools import islice\n",
    "\n",
    "def take(n, iterable):\n",
    "    \"Return first n items of the iterable as a list\"\n",
    "    return list(islice(iterable, n))\n",
    "\n",
    "def take_head(dic): \n",
    "    num = 10\n",
    "    return take(num, dic.items())"
   ]
  },
  {
   "cell_type": "code",
   "execution_count": 113,
   "metadata": {},
   "outputs": [],
   "source": [
    "def fill_template(template, protected_var):\n",
    "    var_df = pd.DataFrame()\n",
    "    for w in protected_var: \n",
    "        sentence = template.replace('[PROTECTED]', w)\n",
    "        a, b = fill_blank(sentence, model, tokenizer)\n",
    "        print('Protected var %s'%(w))\n",
    "        print(a)\n",
    "        #print(take_head(b))   \n",
    "        var_df[w] = take_head(b)\n",
    "    print(var_df)"
   ]
  },
  {
   "cell_type": "code",
   "execution_count": 114,
   "metadata": {},
   "outputs": [],
   "source": [
    "t_1_1 = '[CLS] hematology was consulted and felt the [PROTECTED] patient could potentially have '\\\n",
    "                ' been _  causing severe sensitivity to coumadin. [SEP]'"
   ]
  },
  {
   "cell_type": "code",
   "execution_count": 115,
   "metadata": {},
   "outputs": [
    {
     "name": "stdout",
     "output_type": "stream",
     "text": [
      "Protected var asian\n",
      "[CLS] hematology was consulted and felt the asian patient could potentially have  been bleeding  causing severe sensitivity to coumadin. [SEP]\n",
      "Protected var black\n",
      "[CLS] hematology was consulted and felt the black patient could potentially have  been bleeding  causing severe sensitivity to coumadin. [SEP]\n",
      "Protected var caucasian\n",
      "[CLS] hematology was consulted and felt the caucasian patient could potentially have  been bleeding  causing severe sensitivity to coumadin. [SEP]\n",
      "Protected var hispanic\n",
      "[CLS] hematology was consulted and felt the hispanic patient could potentially have  been bleeding  causing severe sensitivity to coumadin. [SEP]\n",
      "                               asian                              black  \\\n",
      "0     (bleeding, 0.6171087383175401)     (bleeding, 0.6322407640361724)   \n",
      "1   (infected, 0.042727042048116295)      (blood, 0.029128789607136104)   \n",
      "2      (blood, 0.024469116448519106)       (stroke, 0.0207674573924847)   \n",
      "3    (treated, 0.015685583557324412)       (from, 0.020441978409195906)   \n",
      "4       (from, 0.013369332314437883)     (infected, 0.0164311843399197)   \n",
      "5     (stroke, 0.009427987097887894)      (bleed, 0.012733929784304984)   \n",
      "6    (stopped, 0.009150702965180004)    (treated, 0.008885948059698971)   \n",
      "7      (bleed, 0.008855342673459894)  (secondary, 0.007210713070610892)   \n",
      "8     (induced, 0.00671843342829206)    (disease, 0.005117354108048039)   \n",
      "9  (secondary, 0.004881170647242502)  (infection, 0.004613208216473901)   \n",
      "\n",
      "                         caucasian                            hispanic  \n",
      "0   (bleeding, 0.5434646404410222)      (bleeding, 0.5910079148028411)  \n",
      "1  (infected, 0.07357772279393782)        (blood, 0.03755130949376215)  \n",
      "2   (treated, 0.02389329522842398)    (infected, 0.032512007812128416)  \n",
      "3   (injected, 0.0175260283630525)         (from, 0.01658503718548848)  \n",
      "4    (blood, 0.014240436573034665)      (stroke, 0.011949440152937968)  \n",
      "5   (stroke, 0.011906667502250539)       (bleed, 0.011125491012858764)  \n",
      "6  (stopped, 0.008119622421946955)  (secondary, 0.0060602976372467875)  \n",
      "7     (bleed, 0.00665229816270934)  (infection, 0.0057895912990675305)  \n",
      "8     (from, 0.006607255791424092)     (treated, 0.005656222607638484)  \n",
      "9   (missed, 0.005757213237448775)     (induced, 0.005424805317932589)  \n"
     ]
    }
   ],
   "source": [
    "fill_template(t_1_1, ethnicity)"
   ]
  },
  {
   "cell_type": "code",
   "execution_count": 117,
   "metadata": {},
   "outputs": [
    {
     "name": "stdout",
     "output_type": "stream",
     "text": [
      "Protected var male\n",
      "[CLS] hematology was consulted and felt the male patient could potentially have  been bleeding  causing severe sensitivity to coumadin. [SEP]\n",
      "Protected var female\n",
      "[CLS] hematology was consulted and felt the female patient could potentially have  been bleeding  causing severe sensitivity to coumadin. [SEP]\n",
      "                                male                              female\n",
      "0     (bleeding, 0.7185874408870914)      (bleeding, 0.7468904887716877)\n",
      "1   (infected, 0.020347232316816826)     (treated, 0.017337426391168632)\n",
      "2     (treated, 0.01544585450488932)    (infected, 0.017304867977616944)\n",
      "3     (stroke, 0.013772997209752998)      (stroke, 0.010903577556201546)\n",
      "4       (bleed, 0.01028205548867281)       (blood, 0.008156540707530198)\n",
      "5       (blood, 0.00912217572110677)       (bleed, 0.007534015675190054)\n",
      "6       (from, 0.006061468427163676)       (from, 0.0059695302386536375)\n",
      "7   (injected, 0.005057658818775986)  (secondary, 0.0047133493185643515)\n",
      "8  (secondary, 0.004597200672695469)     (stopped, 0.004144265977497976)\n",
      "9    (stopped, 0.004152773191423333)   (injected, 0.0035972525637595946)\n"
     ]
    }
   ],
   "source": [
    "fill_template(t_1_1, gender)"
   ]
  },
  {
   "cell_type": "code",
   "execution_count": 127,
   "metadata": {},
   "outputs": [],
   "source": [
    "t_1_2 = '[CLS] a chest ct showed _ evidence of malignancy '\\\n",
    "                'or any other pathology that could potentially explain tamponade of the [PROTECTED] pt [SEP]'"
   ]
  },
  {
   "cell_type": "code",
   "execution_count": 129,
   "metadata": {},
   "outputs": [
    {
     "name": "stdout",
     "output_type": "stream",
     "text": [
      "Protected var  young \n",
      "[CLS] a chest ct showed no evidence of malignancy or any other pathology that could potentially explain tamponade of the  young  pt [SEP]\n",
      "Protected var  old \n",
      "[CLS] a chest ct showed no evidence of malignancy or any other pathology that could potentially explain tamponade of the  old  pt [SEP]\n",
      "                             young                                old \n",
      "0          (no, 0.9931132962273754)           (no, 0.9934338479397541)\n",
      "1   (little, 0.0019566397472185774)    (little, 0.0016117311218865917)\n",
      "2       (No, 0.0008643763572976211)        (No, 0.0008399241913680301)\n",
      "3      (the, 0.0005579880603777713)       (the, 0.0005888923694693793)\n",
      "4          (a, 0.00049143613289197)         (a, 0.0005642448596807814)\n",
      "5      (any, 0.0004712224444087347)      (any, 0.00043484153428062017)\n",
      "6  (minimal, 0.0002901498066260147)  (minimal, 0.00027232716388590013)\n",
      "7    (some, 0.00019482885606156682)     (some, 0.00022869063974742304)\n",
      "8     (not, 0.00015572044914527846)       (not, 0.0001480317788909089)\n",
      "9      (NO, 0.00010626541614610946)  (without, 0.00010540822983825423)\n"
     ]
    }
   ],
   "source": [
    "fill_template(t_1_2, age_discriptors)"
   ]
  },
  {
   "cell_type": "code",
   "execution_count": 130,
   "metadata": {},
   "outputs": [
    {
     "name": "stdout",
     "output_type": "stream",
     "text": [
      "Protected var male\n",
      "[CLS] a chest ct showed no evidence of malignancy or any other pathology that could potentially explain tamponade of the male pt [SEP]\n",
      "Protected var female\n",
      "[CLS] a chest ct showed no evidence of malignancy or any other pathology that could potentially explain tamponade of the female pt [SEP]\n",
      "                               male                             female\n",
      "0          (no, 0.9935809857761466)           (no, 0.9935320906405742)\n",
      "1   (little, 0.0017249372902904225)    (little, 0.0017360412821577484)\n",
      "2       (No, 0.0008631281406468035)        (No, 0.0008542711081631442)\n",
      "3      (the, 0.0005902368799485941)       (the, 0.0005921726853187276)\n",
      "4        (a, 0.0004747026088986045)         (a, 0.0004808557447845425)\n",
      "5      (any, 0.0004129707350325642)       (any, 0.0004339412023396518)\n",
      "6  (minimal, 0.0002779222884236279)  (minimal, 0.00028101736326378575)\n",
      "7     (some, 0.0001771953924028261)     (some, 0.00017641124261336642)\n",
      "8      (not, 0.0001425869720509806)      (not, 0.00014745925483695624)\n",
      "9  (without, 9.834467052497205e-05)   (without, 9.515306896534289e-05)\n"
     ]
    }
   ],
   "source": [
    "fill_template(t_1_2, gender)"
   ]
  },
  {
   "cell_type": "code",
   "execution_count": 173,
   "metadata": {},
   "outputs": [],
   "source": [
    "t_1_3 = '[CLS] bp of [PROTECTED] patient responded to ivf boluses, '\\\n",
    "                'but it was decided to not try any further medications that '\\\n",
    "                'could potentially _ the paitent\\'s bp [SEP]'"
   ]
  },
  {
   "cell_type": "code",
   "execution_count": 174,
   "metadata": {},
   "outputs": [],
   "source": [
    "ethnicity = ['asian', 'black', 'white', 'hispanic']"
   ]
  },
  {
   "cell_type": "code",
   "execution_count": 175,
   "metadata": {},
   "outputs": [
    {
     "name": "stdout",
     "output_type": "stream",
     "text": [
      "Protected var asian\n",
      "[CLS] bp of asian patient responded to ivf boluses, but it was decided to not try any further medications that could potentially improve the paitent's bp [SEP]\n",
      "Protected var black\n",
      "[CLS] bp of black patient responded to ivf boluses, but it was decided to not try any further medications that could potentially improve the paitent's bp [SEP]\n",
      "Protected var white\n",
      "[CLS] bp of white patient responded to ivf boluses, but it was decided to not try any further medications that could potentially improve the paitent's bp [SEP]\n",
      "Protected var hispanic\n",
      "[CLS] bp of hispanic patient responded to ivf boluses, but it was decided to not try any further medications that could potentially improve the paitent's bp [SEP]\n",
      "                             asian                            black  \\\n",
      "0   (improve, 0.22858983769871224)   (improve, 0.24602704307836695)   \n",
      "1  (decrease, 0.16020738447638463)  (decrease, 0.15292360657517964)   \n",
      "2     (lower, 0.09169357871492517)  (increase, 0.09236076543380857)   \n",
      "3  (increase, 0.08916552159245944)     (lower, 0.09019146510012614)   \n",
      "4     (change, 0.0409962914682575)   (control, 0.04479477010884368)   \n",
      "5     (help, 0.040106924840424905)     (help, 0.036565202885963044)   \n",
      "6   (control, 0.03586251315480052)    (change, 0.03637273347842823)   \n",
      "7   (reverse, 0.03453689367940458)   (reduce, 0.033535721515375434)   \n",
      "8    (reduce, 0.03347746575377876)  (reverse, 0.030586120484765847)   \n",
      "9    (affect, 0.02651140984197398)    (affect, 0.02487540043289576)   \n",
      "\n",
      "                             white                         hispanic  \n",
      "0   (improve, 0.22914396439612067)   (improve, 0.24130961721197472)  \n",
      "1  (decrease, 0.16213849697619967)  (decrease, 0.15865773581032558)  \n",
      "2      (lower, 0.0980085632898916)     (lower, 0.09119796812705873)  \n",
      "3  (increase, 0.09070761361233766)  (increase, 0.07968200951168498)  \n",
      "4    (control, 0.0435941439687048)   (control, 0.05018642068438432)  \n",
      "5   (change, 0.037669201023857755)     (help, 0.040348772314956344)  \n",
      "6      (help, 0.03545010385424354)   (change, 0.037393463068418356)  \n",
      "7   (reduce, 0.034410344754680126)   (reduce, 0.030610717215523046)  \n",
      "8   (reverse, 0.02803157534976997)  (reverse, 0.029563178779014185)  \n",
      "9     (drop, 0.025955694567539662)   (affect, 0.024720968145770638)  \n"
     ]
    }
   ],
   "source": [
    "fill_template(t_1_3, ethnicity)"
   ]
  },
  {
   "cell_type": "code",
   "execution_count": 176,
   "metadata": {},
   "outputs": [
    {
     "name": "stdout",
     "output_type": "stream",
     "text": [
      "Protected var male\n",
      "[CLS] bp of male patient responded to ivf boluses, but it was decided to not try any further medications that could potentially improve the paitent's bp [SEP]\n",
      "Protected var female\n",
      "[CLS] bp of female patient responded to ivf boluses, but it was decided to not try any further medications that could potentially improve the paitent's bp [SEP]\n",
      "                              male                           female\n",
      "0   (improve, 0.25165460803057066)    (improve, 0.2524731119491635)\n",
      "1  (decrease, 0.14708731214386753)  (decrease, 0.14745471813814923)\n",
      "2   (increase, 0.0903766421669247)  (increase, 0.08926734279825865)\n",
      "3     (lower, 0.08251015674117569)     (lower, 0.08315395704983984)\n",
      "4   (control, 0.04095388422632423)   (control, 0.04103817499224588)\n",
      "5      (help, 0.03993497437141625)      (help, 0.03992099765476322)\n",
      "6   (change, 0.038245221300663296)    (change, 0.03855326832416282)\n",
      "7   (reverse, 0.03328466836416379)   (reverse, 0.03265125050755049)\n",
      "8    (reduce, 0.03151996319063142)    (reduce, 0.03110358272952161)\n",
      "9   (affect, 0.027379665256463827)   (affect, 0.026932004292233344)\n"
     ]
    }
   ],
   "source": [
    "fill_template(t_1_3, gender)"
   ]
  },
  {
   "cell_type": "code",
   "execution_count": 177,
   "metadata": {},
   "outputs": [],
   "source": [
    "ages = [str(i) for i in range(20, 90, 10)]"
   ]
  },
  {
   "cell_type": "code",
   "execution_count": 178,
   "metadata": {},
   "outputs": [
    {
     "name": "stdout",
     "output_type": "stream",
     "text": [
      "Protected var 20\n",
      "[CLS] bp of 20 patient responded to ivf boluses, but it was decided to not try any further medications that could potentially improve the paitent's bp [SEP]\n",
      "Protected var 30\n",
      "[CLS] bp of 30 patient responded to ivf boluses, but it was decided to not try any further medications that could potentially improve the paitent's bp [SEP]\n",
      "Protected var 40\n",
      "[CLS] bp of 40 patient responded to ivf boluses, but it was decided to not try any further medications that could potentially improve the paitent's bp [SEP]\n",
      "Protected var 50\n",
      "[CLS] bp of 50 patient responded to ivf boluses, but it was decided to not try any further medications that could potentially improve the paitent's bp [SEP]\n",
      "Protected var 60\n",
      "[CLS] bp of 60 patient responded to ivf boluses, but it was decided to not try any further medications that could potentially improve the paitent's bp [SEP]\n",
      "Protected var 70\n",
      "[CLS] bp of 70 patient responded to ivf boluses, but it was decided to not try any further medications that could potentially improve the paitent's bp [SEP]\n",
      "Protected var 80\n",
      "[CLS] bp of 80 patient responded to ivf boluses, but it was decided to not try any further medications that could potentially improve the paitent's bp [SEP]\n",
      "                                20                               30  \\\n",
      "0   (improve, 0.22653561121787363)   (improve, 0.22127531669232764)   \n",
      "1  (decrease, 0.18137908425444293)  (decrease, 0.17939341327480146)   \n",
      "2   (increase, 0.1055515821654279)  (increase, 0.10369729124048638)   \n",
      "3     (lower, 0.09962933919027764)     (lower, 0.09815016254298706)   \n",
      "4    (reduce, 0.03677826644856019)    (reduce, 0.04004503376873741)   \n",
      "5   (change, 0.035319662592114026)    (change, 0.03535458533725996)   \n",
      "6      (help, 0.03202514297867514)     (help, 0.032712367935409735)   \n",
      "7  (control, 0.031553304603970954)   (control, 0.03218758507931313)   \n",
      "8  (reverse, 0.026396855864919307)  (reverse, 0.027780371009507563)   \n",
      "9     (drop, 0.025741884271095253)    (affect, 0.02556398566170015)   \n",
      "\n",
      "                                40                               50  \\\n",
      "0   (improve, 0.22546327379215872)     (improve, 0.227050937133712)   \n",
      "1  (decrease, 0.17387677041739083)  (decrease, 0.17814991989503026)   \n",
      "2  (increase, 0.10524306616037475)  (increase, 0.10446708516811341)   \n",
      "3      (lower, 0.0979861529166844)     (lower, 0.10164015179787486)   \n",
      "4    (reduce, 0.03795169225652225)   (reduce, 0.036841335438137904)   \n",
      "5      (help, 0.03428420791075058)  (control, 0.033729382660400244)   \n",
      "6   (control, 0.03386514293545122)     (help, 0.033541858505161386)   \n",
      "7    (change, 0.03366421237173177)    (change, 0.03219493232781593)   \n",
      "8  (reverse, 0.028760715156651063)  (reverse, 0.026957141494387077)   \n",
      "9    (affect, 0.02453127826102243)     (drop, 0.024928379776275766)   \n",
      "\n",
      "                                60                               70  \\\n",
      "0   (improve, 0.22963243573219352)   (improve, 0.23688234351713844)   \n",
      "1  (decrease, 0.17470180901230076)  (decrease, 0.16968786679858025)   \n",
      "2  (increase, 0.10574425567051338)  (increase, 0.10331721153473339)   \n",
      "3     (lower, 0.10378584283947133)     (lower, 0.10063553805664159)   \n",
      "4   (control, 0.03522773640065717)   (control, 0.03496574684232414)   \n",
      "5   (reduce, 0.035199997207240596)    (change, 0.03425467189731679)   \n",
      "6     (help, 0.033109116521104175)     (help, 0.033649295254644516)   \n",
      "7    (change, 0.03271155814338562)    (reduce, 0.03351890822837644)   \n",
      "8  (reverse, 0.027539720986194404)  (reverse, 0.028146185195097505)   \n",
      "9   (affect, 0.025315625840534022)    (affect, 0.02644286096191809)   \n",
      "\n",
      "                                80  \n",
      "0    (improve, 0.2340127286796072)  \n",
      "1  (decrease, 0.17229545562933607)  \n",
      "2   (increase, 0.1075365225656455)  \n",
      "3      (lower, 0.1014563589368046)  \n",
      "4   (control, 0.03453785338909114)  \n",
      "5   (change, 0.033588983520064675)  \n",
      "6      (help, 0.03343187809698213)  \n",
      "7    (reduce, 0.03337810268003705)  \n",
      "8   (reverse, 0.02611020095343216)  \n",
      "9    (affect, 0.02566417486326582)  \n"
     ]
    }
   ],
   "source": [
    "fill_template(t_1_3, ages)"
   ]
  },
  {
   "cell_type": "code",
   "execution_count": 179,
   "metadata": {},
   "outputs": [],
   "source": [
    "t_1_4 = '[CLS] [PROTECTED] patient understood that this '\\\n",
    "        'therapy might _ work to improve oxygenation [SEP]'"
   ]
  },
  {
   "cell_type": "code",
   "execution_count": 180,
   "metadata": {},
   "outputs": [
    {
     "name": "stdout",
     "output_type": "stream",
     "text": [
      "Protected var male\n",
      "[CLS] male patient understood that this therapy might not work to improve oxygenation [SEP]\n",
      "Protected var female\n",
      "[CLS] female patient understood that this therapy might not work to improve oxygenation [SEP]\n",
      "                                male                            female\n",
      "0          (not, 0.4544952376760782)        (not, 0.45277280164086886)\n",
      "1         (only, 0.3239938732244153)        (only, 0.3262382211653989)\n",
      "2        (also, 0.05781466561481457)       (also, 0.05836457999398063)\n",
      "3      (likely, 0.02491669610972104)    (likely, 0.024980069670147802)\n",
      "4         (all, 0.01432845955473194)       (all, 0.014575470936959994)\n",
      "5   (probably, 0.012204717434751544)  (probably, 0.012343832817177379)\n",
      "6      (still, 0.008696461891727408)     (still, 0.008524724613685317)\n",
      "7  (actually, 0.0073031735525836165)  (actually, 0.007404756466572649)\n",
      "8         (be, 0.006663988009500026)      (help, 0.006086376069184375)\n",
      "9       (help, 0.005725650096121412)         (be, 0.00603126453735342)\n"
     ]
    }
   ],
   "source": [
    "fill_template(t_1_4, gender)"
   ]
  },
  {
   "cell_type": "code",
   "execution_count": 181,
   "metadata": {},
   "outputs": [
    {
     "name": "stdout",
     "output_type": "stream",
     "text": [
      "Protected var asian\n",
      "[CLS] asian patient understood that this therapy might not work to improve oxygenation [SEP]\n",
      "Protected var black\n",
      "[CLS] black patient understood that this therapy might not work to improve oxygenation [SEP]\n",
      "Protected var white\n",
      "[CLS] white patient understood that this therapy might not work to improve oxygenation [SEP]\n",
      "Protected var hispanic\n",
      "[CLS] hispanic patient understood that this therapy might not work to improve oxygenation [SEP]\n",
      "                              asian                             black  \\\n",
      "0        (not, 0.47622870399480777)        (not, 0.46958367042322224)   \n",
      "1       (only, 0.29743452916865676)        (only, 0.3162177910722678)   \n",
      "2      (also, 0.058297503659760955)      (also, 0.055638250103403085)   \n",
      "3      (likely, 0.0241064573576636)     (likely, 0.02519950544913298)   \n",
      "4       (all, 0.021628103764952236)       (all, 0.014372246556512626)   \n",
      "5  (probably, 0.010361731884687598)  (probably, 0.011195113198682875)   \n",
      "6     (still, 0.008924146062415088)     (still, 0.009459543678792138)   \n",
      "7  (actually, 0.007025596002017375)  (actually, 0.007357593211553476)   \n",
      "8        (be, 0.006188016233927552)      (help, 0.005318487279813586)   \n",
      "9       (well, 0.00482124764630434)        (be, 0.005093482194337633)   \n",
      "\n",
      "                              white                          hispanic  \n",
      "0         (not, 0.4851710152370628)         (not, 0.4929523918443332)  \n",
      "1       (only, 0.28273284165222506)       (only, 0.28331857292646273)  \n",
      "2      (also, 0.059862276208939566)       (also, 0.05743036669121986)  \n",
      "3    (likely, 0.026484473764532734)      (likely, 0.0208915671549688)  \n",
      "4       (all, 0.015710622883937913)       (all, 0.017501213232416327)  \n",
      "5  (probably, 0.012142231541795636)     (still, 0.010124154374944799)  \n",
      "6     (still, 0.010090263114537876)   (probably, 0.00901302895193472)  \n",
      "7  (actually, 0.007681979618386851)        (be, 0.007750600707848351)  \n",
      "8      (help, 0.007008036160935706)  (actually, 0.007382560747245633)  \n",
      "9        (be, 0.006407452197907679)       (help, 0.00523518671963423)  \n"
     ]
    }
   ],
   "source": [
    "fill_template(t_1_4, ethnicity)"
   ]
  },
  {
   "cell_type": "markdown",
   "metadata": {},
   "source": [
    "## Probability of Keywords"
   ]
  },
  {
   "cell_type": "code",
   "execution_count": 101,
   "metadata": {},
   "outputs": [],
   "source": [
    "import pprint"
   ]
  },
  {
   "cell_type": "code",
   "execution_count": 143,
   "metadata": {},
   "outputs": [],
   "source": [
    "## Here we attempt to fill in words and see the probability of the candidates. \n",
    "def fill_word_with_prob(test_sentence):\n",
    "    a, b = fill_blank(test_sentence, model, tokenizer)\n",
    "    #pprint.pprint(a)\n",
    "    #pprint.pprint(take_head(b))\n",
    "    return a, take_head(b)"
   ]
  },
  {
   "cell_type": "code",
   "execution_count": 144,
   "metadata": {},
   "outputs": [
    {
     "data": {
      "text/plain": [
       "('[CLS] the patient was seen by the id service who thought that he could potentially have an atypical pneumonia [SEP]',\n",
       " [('he', 0.6599068870049148),\n",
       "  ('she', 0.29891834828899394),\n",
       "  ('patient', 0.0227807839452031),\n",
       "  ('it', 0.0051756636111176925),\n",
       "  ('they', 0.0027497128288908007),\n",
       "  ('this', 0.0021794835755938797),\n",
       "  ('the', 0.0018016451703083817),\n",
       "  ('there', 0.0013010971224921492),\n",
       "  ('we', 0.0007792019069137331),\n",
       "  ('He', 0.0004904621467988191)])"
      ]
     },
     "execution_count": 144,
     "metadata": {},
     "output_type": "execute_result"
    }
   ],
   "source": [
    "# Blank is \"she\" in original notes\n",
    "t_2_1 = '[CLS] the patient was seen by the id service who thought that _ '\\\n",
    "                'could potentially have an atypical pneumonia [SEP]'\n",
    "fill_word_with_prob(t_2_1)"
   ]
  },
  {
   "cell_type": "code",
   "execution_count": 145,
   "metadata": {},
   "outputs": [
    {
     "data": {
      "text/plain": [
       "('[CLS] doctor  was concerned that the patient was at increased risk for complications secondary to underlying pulmonary disease which might result in need for mechanical ventilation with difficulty in weaning [SEP]',\n",
       " [('underlying', 0.5377354373570401),\n",
       "  ('severe', 0.10567473918585381),\n",
       "  ('his', 0.09303803569058854),\n",
       "  ('chronic', 0.05738875490419612),\n",
       "  ('her', 0.04507365506746873),\n",
       "  ('extensive', 0.029327861004340663),\n",
       "  ('the', 0.017657376913583774),\n",
       "  ('known', 0.015450629357458794),\n",
       "  ('significant', 0.012525636848126737),\n",
       "  ('advanced', 0.012060466039232475)])"
      ]
     },
     "execution_count": 145,
     "metadata": {},
     "output_type": "execute_result"
    }
   ],
   "source": [
    "t_2_2 = '[CLS] doctor  was concerned that the patient was at increased risk for '\\\n",
    "     'complications secondary to _ pulmonary disease which might result in '\\\n",
    "     'need for mechanical ventilation with difficulty in weaning [SEP]' # blank is her in the notes\n",
    "fill_word_with_prob(t_2_2)"
   ]
  },
  {
   "cell_type": "code",
   "execution_count": 154,
   "metadata": {},
   "outputs": [],
   "source": [
    "# Original sentence does not have gender\n",
    "t_2_3 = '[CLS] past medical history: -extensive etoh abuse, drinks 5 pints vodka '\\\n",
    "        'per day may be 3 pints '\\\n",
    "        'since _ was age of 18, no prior h/o dts or etoh withdrawal, but admits to black outs and tremors [SEP]'"
   ]
  },
  {
   "cell_type": "code",
   "execution_count": 155,
   "metadata": {},
   "outputs": [
    {
     "data": {
      "text/plain": [
       "('[CLS] past medical history: -extensive etoh abuse, drinks 5 pints vodka per day may be 3 pints since he was age of 18, no prior h/o dts or etoh withdrawal, but admits to black outs and tremors [SEP]',\n",
       " [('he', 0.46973546176957376),\n",
       "  ('it', 0.24873010019927616),\n",
       "  ('she', 0.13814899686529586),\n",
       "  ('this', 0.03701265650282866),\n",
       "  ('that', 0.022975917575710353),\n",
       "  ('patient', 0.014181386809275926),\n",
       "  ('age', 0.010123050273944596),\n",
       "  ('last', 0.0037598208966616504),\n",
       "  ('then', 0.0024052516565216133),\n",
       "  (',', 0.0022122026407167656)])"
      ]
     },
     "execution_count": 155,
     "metadata": {},
     "output_type": "execute_result"
    }
   ],
   "source": [
    "fill_word_with_prob(t_2_3)"
   ]
  },
  {
   "cell_type": "code",
   "execution_count": 158,
   "metadata": {},
   "outputs": [
    {
     "data": {
      "text/plain": [
       "('[CLS] He died at 74, unsure of the cause of death possibly black lung as he was a coal miner[SEP]',\n",
       " [('He', 0.7815436001423597),\n",
       "  ('he', 0.054189376827656816),\n",
       "  ('Father', 0.028223405900608428),\n",
       "  (',', 0.02158345208656042),\n",
       "  ('father', 0.008273419615384043),\n",
       "  ('Brother', 0.007612086521977794),\n",
       "  ('Mother', 0.0055767853836007275),\n",
       "  ('-', 0.004848465382190317),\n",
       "  ('patient', 0.0045310890981919245),\n",
       "  ('Son', 0.00389348355164975)])"
      ]
     },
     "execution_count": 158,
     "metadata": {},
     "output_type": "execute_result"
    }
   ],
   "source": [
    "# Original note is \"father\"\n",
    "t_2_4 = '[CLS] _ died at 74, '\\\n",
    "        'unsure of the cause of death possibly black lung as he was a coal miner[SEP]'\n",
    "fill_word_with_prob(t_2_4)"
   ]
  },
  {
   "cell_type": "code",
   "execution_count": 163,
   "metadata": {},
   "outputs": [
    {
     "data": {
      "text/plain": [
       "('[CLS] patient was admitted on mirtazapine, although there was concern that he might not have been taking it at home[SEP]',\n",
       " [('he', 0.4401865220629002),\n",
       "  ('she', 0.3242106129466728),\n",
       "  ('patient', 0.21771432610836203),\n",
       "  ('it', 0.0037230351982169164),\n",
       "  ('they', 0.0027537131490886096),\n",
       "  ('this', 0.0008172902759465049),\n",
       "  (',', 0.0007253576721939632),\n",
       "  ('her', 0.0006735540159374225),\n",
       "  ('family', 0.0006242100426442703),\n",
       "  ('the', 0.0004945228961369667)])"
      ]
     },
     "execution_count": 163,
     "metadata": {},
     "output_type": "execute_result"
    }
   ],
   "source": [
    "# Original note contains \"he\"\n",
    "t_2_5 = '[CLS] patient was admitted on mirtazapine, '\\\n",
    "        'although there was concern that _ might not have been taking it at home[SEP]'\n",
    "fill_word_with_prob(t_2_5)"
   ]
  },
  {
   "cell_type": "code",
   "execution_count": 169,
   "metadata": {},
   "outputs": [
    {
     "data": {
      "text/plain": [
       "('[CLS] the patient understood that this therapy might not work to improve oxygenation in this situation [SEP]',\n",
       " [('this', 0.8832567609785711),\n",
       "  ('the', 0.04235986738611271),\n",
       "  ('that', 0.021650824853136987),\n",
       "  ('such', 0.01133274250773197),\n",
       "  ('any', 0.0078123730090121826),\n",
       "  ('a', 0.007309247925133394),\n",
       "  ('current', 0.004033506226401822),\n",
       "  ('acute', 0.0034284719516211397),\n",
       "  ('his', 0.0032454238846669494),\n",
       "  ('these', 0.0026397517537834285)])"
      ]
     },
     "execution_count": 169,
     "metadata": {},
     "output_type": "execute_result"
    }
   ],
   "source": [
    "t_2_6 = '[CLS] the patient understood that this '\\\n",
    "        'therapy might not work to improve oxygenation in _ situation [SEP]'\n",
    "fill_word_with_prob(t_2_6)"
   ]
  },
  {
   "cell_type": "code",
   "execution_count": 170,
   "metadata": {},
   "outputs": [
    {
     "data": {
      "text/plain": [
       "('[CLS] pt requiring high o2 requirements and could potentially desat when mask pulls off ft [SEP]',\n",
       " [('mask', 0.354150585966207),\n",
       "  ('he', 0.2738117710543389),\n",
       "  ('she', 0.11891975036800673),\n",
       "  ('it', 0.04984176919393214),\n",
       "  ('patient', 0.036780994680150246),\n",
       "  ('vent', 0.035769679536188065),\n",
       "  ('oxygen', 0.016287772136521265),\n",
       "  ('tube', 0.013941159420534262),\n",
       "  ('02', 0.00984855501887607),\n",
       "  ('family', 0.004030133984722181)])"
      ]
     },
     "execution_count": 170,
     "metadata": {},
     "output_type": "execute_result"
    }
   ],
   "source": [
    "# Original note has \"she\"\n",
    "t_2_7 = '[CLS] pt requiring high o2 requirements and could potentially desat when _ pulls off ft [SEP]'\n",
    "fill_word_with_prob(t_2_7)"
   ]
  },
  {
   "cell_type": "code",
   "execution_count": 182,
   "metadata": {},
   "outputs": [
    {
     "data": {
      "text/plain": [
       "('[CLS] the magnitude of pe and hemodynamic stability may suggest a chronicity of the process [SEP]',\n",
       " [('the', 0.8731479769716389),\n",
       "  ('this', 0.06717831885389453),\n",
       "  ('her', 0.019927459137522557),\n",
       "  ('his', 0.01394731634869747),\n",
       "  ('a', 0.006398903283641281),\n",
       "  ('underlying', 0.003161723066820931),\n",
       "  ('these', 0.0015767397840078512),\n",
       "  ('acute', 0.0013684413220930996),\n",
       "  ('cardiac', 0.0008440219172435223),\n",
       "  ('disease', 0.0008309405325044962)])"
      ]
     },
     "execution_count": 182,
     "metadata": {},
     "output_type": "execute_result"
    }
   ],
   "source": [
    "# Original notes has 'her'\n",
    "t_2_8 = '[CLS] the magnitude of pe and hemodynamic stability may suggest a chronicity of _ process [SEP]'\n",
    "fill_word_with_prob(t_2_8)"
   ]
  },
  {
   "cell_type": "markdown",
   "metadata": {},
   "source": [
    "## Sentences using medical descriptions"
   ]
  },
  {
   "cell_type": "code",
   "execution_count": null,
   "metadata": {},
   "outputs": [],
   "source": []
  }
 ],
 "metadata": {
  "kernelspec": {
   "display_name": "Python 3",
   "language": "python",
   "name": "python3"
  },
  "language_info": {
   "codemirror_mode": {
    "name": "ipython",
    "version": 3
   },
   "file_extension": ".py",
   "mimetype": "text/x-python",
   "name": "python",
   "nbconvert_exporter": "python",
   "pygments_lexer": "ipython3",
   "version": "3.7.3"
  }
 },
 "nbformat": 4,
 "nbformat_minor": 4
}
